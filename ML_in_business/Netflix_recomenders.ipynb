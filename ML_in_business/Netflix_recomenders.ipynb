{
 "metadata": {
  "language_info": {
   "codemirror_mode": {
    "name": "ipython",
    "version": 3
   },
   "file_extension": ".py",
   "mimetype": "text/x-python",
   "name": "python",
   "nbconvert_exporter": "python",
   "pygments_lexer": "ipython3",
   "version": "3.8.5"
  },
  "orig_nbformat": 2,
  "kernelspec": {
   "name": "python385jvsc74a57bd03f800561dde6209f0c647b1ec24b295364b37801e2a63d392a491285ef4d5a88",
   "display_name": "Python 3.8.5 64-bit ('Dell': virtualenv)"
  },
  "metadata": {
   "interpreter": {
    "hash": "f287a2b140f3553997bdcb79622e446b10c0b38a26af8ca77432e6d9cb0796c7"
   }
  }
 },
 "nbformat": 4,
 "nbformat_minor": 2,
 "cells": [
  {
   "source": [
    "#### TV Shows and Movies listed on Netflix\n",
    "\n",
    "Link to Kaggle -- https://www.kaggle.com/shivamb/netflix-shows/tasks?taskId=2447\n",
    "\n",
    "This dataset consists of tv shows and movies available on Netflix as of 2019. The dataset is collected from Flixable which is a third-party Netflix search engine.\n",
    "\n",
    "In 2018, they released an interesting report which shows that the number of TV shows on Netflix has nearly tripled since 2010. The streaming service’s number of movies has decreased by more than 2,000 titles since 2010, while its number of TV shows has nearly tripled. It will be interesting to explore what all other insights can be obtained from the same dataset.\n",
    "\n",
    "Integrating this dataset with other external datasets such as IMDB ratings, rotten tomatoes can also provide many interesting findings.\n",
    "Inspiration\n",
    "\n",
    "Some of the interesting questions (tasks) which can be performed on this dataset -\n",
    "\n",
    "    Understanding what content is available in different countries\n",
    "    Identifying similar content by matching text-based features\n",
    "    Network analysis of Actors / Directors and find interesting insights\n",
    "    Is Netflix has increasingly focusing on TV rather than movies in recent years.\n",
    "Movie Recommendation System\n",
    "\n",
    "### Task Details :\n",
    "\n",
    "**Recommendation system is required in subscription-based OTG platforms. **\n",
    "Recommended engine generally in three types \n",
    "\n",
    "    1.content Based recommended engine\n",
    "    2.collaborative recommender engine and \n",
    "    3.hybrid recommended engine\n",
    "    \n",
    "Expected Submission\n",
    "\n",
    "With the help of this particular data set you have to build a recommended engine. And your recommended engine will return maximum 10 movies name if an user search for a particular movie.\n",
    "Evaluation\n",
    "\n",
    "Recommended engine must return 5 movie names and maximum it can return 10 movie names if an user search for a particular movie. This recommender engine should not give suggestion in between 1 to 4 and 6 to 10 it have to return 5 movie names for 10 movie names.\n"
   ],
   "cell_type": "markdown",
   "metadata": {}
  },
  {
   "source": [
    "#### About the dataset\n",
    "\n",
    "**netflix_titles.csv:** The csv file contains information about the various movies and the data related to them:\n",
    "\n",
    "    - Show ID - unique ID of that particular show\n",
    "    - Type - type of the video - movie, TV Series etc.\n",
    "    - Title - title of the video\n",
    "    - Director - director name\n",
    "    - Cast - cast members\n",
    "    - Country - country where it was released\n",
    "    - Data Added - date when it became live on NETFLIX\n",
    "    - Release Year - year of release\n",
    "    - Rating - user rating\n",
    "    - Duration - duration of the movie, TV Series etc.\n",
    "    - Listed in - Genre information\n",
    "    - Description - concise plot of the series"
   ],
   "cell_type": "markdown",
   "metadata": {}
  },
  {
   "cell_type": "code",
   "execution_count": 1,
   "metadata": {},
   "outputs": [
    {
     "output_type": "stream",
     "name": "stderr",
     "text": [
      "[nltk_data] Downloading package stopwords to\n[nltk_data]     C:\\Users\\Dell\\AppData\\Roaming\\nltk_data...\n[nltk_data]   Package stopwords is already up-to-date!\n[nltk_data] Downloading package wordnet to\n[nltk_data]     C:\\Users\\Dell\\AppData\\Roaming\\nltk_data...\n[nltk_data]   Package wordnet is already up-to-date!\n"
     ]
    }
   ],
   "source": [
    "import pandas as pd\n",
    "import src.utils \n",
    "import string\n",
    "import dill\n",
    "\n",
    "from sklearn.feature_extraction.text import TfidfVectorizer\n",
    "from sklearn.metrics.pairwise import sigmoid_kernel"
   ]
  },
  {
   "cell_type": "code",
   "execution_count": 2,
   "metadata": {},
   "outputs": [
    {
     "output_type": "execute_result",
     "data": {
      "text/plain": [
       "  show_id     type  title           director  \\\n",
       "0      s1  TV Show     3%                NaN   \n",
       "1      s2    Movie   7:19  Jorge Michel Grau   \n",
       "2      s3    Movie  23:59       Gilbert Chan   \n",
       "\n",
       "                                                cast    country  \\\n",
       "0  João Miguel, Bianca Comparato, Michel Gomes, R...     Brazil   \n",
       "1  Demián Bichir, Héctor Bonilla, Oscar Serrano, ...     Mexico   \n",
       "2  Tedd Chan, Stella Chung, Henley Hii, Lawrence ...  Singapore   \n",
       "\n",
       "          date_added  release_year rating   duration  \\\n",
       "0    August 14, 2020          2020  TV-MA  4 Seasons   \n",
       "1  December 23, 2016          2016  TV-MA     93 min   \n",
       "2  December 20, 2018          2011      R     78 min   \n",
       "\n",
       "                                           listed_in  \\\n",
       "0  International TV Shows, TV Dramas, TV Sci-Fi &...   \n",
       "1                       Dramas, International Movies   \n",
       "2                Horror Movies, International Movies   \n",
       "\n",
       "                                         description  \n",
       "0  In a future where the elite inhabit an island ...  \n",
       "1  After a devastating earthquake hits Mexico Cit...  \n",
       "2  When an army recruit is found dead, his fellow...  "
      ],
      "text/html": "<div>\n<style scoped>\n    .dataframe tbody tr th:only-of-type {\n        vertical-align: middle;\n    }\n\n    .dataframe tbody tr th {\n        vertical-align: top;\n    }\n\n    .dataframe thead th {\n        text-align: right;\n    }\n</style>\n<table border=\"1\" class=\"dataframe\">\n  <thead>\n    <tr style=\"text-align: right;\">\n      <th></th>\n      <th>show_id</th>\n      <th>type</th>\n      <th>title</th>\n      <th>director</th>\n      <th>cast</th>\n      <th>country</th>\n      <th>date_added</th>\n      <th>release_year</th>\n      <th>rating</th>\n      <th>duration</th>\n      <th>listed_in</th>\n      <th>description</th>\n    </tr>\n  </thead>\n  <tbody>\n    <tr>\n      <th>0</th>\n      <td>s1</td>\n      <td>TV Show</td>\n      <td>3%</td>\n      <td>NaN</td>\n      <td>João Miguel, Bianca Comparato, Michel Gomes, R...</td>\n      <td>Brazil</td>\n      <td>August 14, 2020</td>\n      <td>2020</td>\n      <td>TV-MA</td>\n      <td>4 Seasons</td>\n      <td>International TV Shows, TV Dramas, TV Sci-Fi &amp;...</td>\n      <td>In a future where the elite inhabit an island ...</td>\n    </tr>\n    <tr>\n      <th>1</th>\n      <td>s2</td>\n      <td>Movie</td>\n      <td>7:19</td>\n      <td>Jorge Michel Grau</td>\n      <td>Demián Bichir, Héctor Bonilla, Oscar Serrano, ...</td>\n      <td>Mexico</td>\n      <td>December 23, 2016</td>\n      <td>2016</td>\n      <td>TV-MA</td>\n      <td>93 min</td>\n      <td>Dramas, International Movies</td>\n      <td>After a devastating earthquake hits Mexico Cit...</td>\n    </tr>\n    <tr>\n      <th>2</th>\n      <td>s3</td>\n      <td>Movie</td>\n      <td>23:59</td>\n      <td>Gilbert Chan</td>\n      <td>Tedd Chan, Stella Chung, Henley Hii, Lawrence ...</td>\n      <td>Singapore</td>\n      <td>December 20, 2018</td>\n      <td>2011</td>\n      <td>R</td>\n      <td>78 min</td>\n      <td>Horror Movies, International Movies</td>\n      <td>When an army recruit is found dead, his fellow...</td>\n    </tr>\n  </tbody>\n</table>\n</div>"
     },
     "metadata": {},
     "execution_count": 2
    }
   ],
   "source": [
    "df = pd.read_csv(\"data/netflix_titles.csv\")\n",
    "df.head(3)"
   ]
  },
  {
   "cell_type": "code",
   "execution_count": 3,
   "metadata": {},
   "outputs": [
    {
     "output_type": "execute_result",
     "data": {
      "text/plain": [
       "show_id            0\n",
       "type               0\n",
       "title              0\n",
       "director        2389\n",
       "cast             718\n",
       "country          507\n",
       "date_added        10\n",
       "release_year       0\n",
       "rating             7\n",
       "duration           0\n",
       "listed_in          0\n",
       "description        0\n",
       "dtype: int64"
      ]
     },
     "metadata": {},
     "execution_count": 3
    }
   ],
   "source": [
    "df.isnull().sum()"
   ]
  },
  {
   "cell_type": "code",
   "execution_count": 4,
   "metadata": {},
   "outputs": [
    {
     "output_type": "execute_result",
     "data": {
      "text/plain": [
       "show_id         7787\n",
       "type               2\n",
       "title           7787\n",
       "director        4049\n",
       "cast            6831\n",
       "country          681\n",
       "date_added      1565\n",
       "release_year      73\n",
       "rating            14\n",
       "duration         216\n",
       "listed_in        492\n",
       "description     7769\n",
       "dtype: int64"
      ]
     },
     "metadata": {},
     "execution_count": 4
    }
   ],
   "source": [
    "# Определим к-во уникальных значений для каждого из полей. \n",
    "unique_val=df.nunique()\n",
    "unique_val"
   ]
  },
  {
   "cell_type": "code",
   "execution_count": 5,
   "metadata": {},
   "outputs": [
    {
     "output_type": "execute_result",
     "data": {
      "text/plain": [
       "Movie      5377\n",
       "TV Show    2410\n",
       "Name: type, dtype: int64"
      ]
     },
     "metadata": {},
     "execution_count": 5
    }
   ],
   "source": [
    "df['type'].value_counts()"
   ]
  },
  {
   "cell_type": "code",
   "execution_count": 6,
   "metadata": {},
   "outputs": [],
   "source": [
    "# df.iloc[search_moves('Warrior Nun')]"
   ]
  },
  {
   "source": [
    "### Строим рекомендации."
   ],
   "cell_type": "markdown",
   "metadata": {}
  },
  {
   "source": [
    "#### Функции для предобработки текста вынесены в отдельный модуль. "
   ],
   "cell_type": "markdown",
   "metadata": {}
  },
  {
   "cell_type": "code",
   "execution_count": 7,
   "metadata": {},
   "outputs": [],
   "source": [
    "from src.utils import clean_text, lemmatization,correct_text,join_collumns"
   ]
  },
  {
   "source": [
    "df['description'] = df['description'].fillna(\"\") # заменяем nan на пустые строки. "
   ],
   "cell_type": "markdown",
   "metadata": {}
  },
  {
   "source": [
    "Выполним предобработку текста перед тем как обучить TF-IDF \n",
    "1. Уберем из текста стоп-слова, \n",
    "2. выполним лематизацию текста."
   ],
   "cell_type": "markdown",
   "metadata": {}
  },
  {
   "cell_type": "code",
   "execution_count": 8,
   "metadata": {},
   "outputs": [
    {
     "output_type": "stream",
     "name": "stderr",
     "text": [
      "c:\\Users\\Dell\\Documents\\Geek_Brains\\ML_In_Business\\GeekBrains_CursProjects\\ML_in_business\\src\\utils.py:60: FutureWarning: Possible nested set at position 39\n  text = re.sub(\"[0-9]|[-—.,:;_%©«»?*!@#№$^•·&()]|[+=]|[[]|[]]|[/]|\", '', text)\n"
     ]
    }
   ],
   "source": [
    "df['description'] = df['description'].apply(lambda x: clean_text(x))"
   ]
  },
  {
   "cell_type": "code",
   "execution_count": 9,
   "metadata": {},
   "outputs": [
    {
     "output_type": "stream",
     "name": "stderr",
     "text": [
      "UsageError: Cell magic `%%` not found.\n"
     ]
    }
   ],
   "source": [
    "%% time \r\n",
    "df['description'] = df['description'].apply(lambda x: lemmatization(x))"
   ]
  },
  {
   "source": [
    "Для того чтобы поиск выполнялся более корректно, дополним описание фильма списком актеров, режисером и установленными тегами."
   ],
   "cell_type": "markdown",
   "metadata": {}
  },
  {
   "cell_type": "code",
   "execution_count": 10,
   "metadata": {},
   "outputs": [
    {
     "output_type": "execute_result",
     "data": {
      "text/plain": [
       "  show_id     type  title           director  \\\n",
       "0      s1  TV Show     3%                      \n",
       "1      s2    Movie   7:19  jorge michel grau   \n",
       "2      s3    Movie  23:59       gilbert chan   \n",
       "\n",
       "                                                cast    country  \\\n",
       "0  joão miguel, bianca comparato, michel gomes, r...     Brazil   \n",
       "1  demián bichir, héctor bonilla, oscar serrano, ...     Mexico   \n",
       "2  tedd chan, stella chung, henley hii, lawrence ...  Singapore   \n",
       "\n",
       "          date_added  release_year rating   duration  \\\n",
       "0    August 14, 2020          2020  TV-MA  4 Seasons   \n",
       "1  December 23, 2016          2016  TV-MA     93 min   \n",
       "2  December 20, 2018          2011      R     78 min   \n",
       "\n",
       "                                           listed_in  \\\n",
       "0  international tv shows, tv dramas, tv sci-fi &...   \n",
       "1                       dramas, international movies   \n",
       "2                horror movies, international movies   \n",
       "\n",
       "                                         description  \n",
       "0  in a future where the elite inhabit an island ...  \n",
       "1  after a devastating earthquake hits mexico cit...  \n",
       "2  when an army recruit is found dead his fellow ...  "
      ],
      "text/html": "<div>\n<style scoped>\n    .dataframe tbody tr th:only-of-type {\n        vertical-align: middle;\n    }\n\n    .dataframe tbody tr th {\n        vertical-align: top;\n    }\n\n    .dataframe thead th {\n        text-align: right;\n    }\n</style>\n<table border=\"1\" class=\"dataframe\">\n  <thead>\n    <tr style=\"text-align: right;\">\n      <th></th>\n      <th>show_id</th>\n      <th>type</th>\n      <th>title</th>\n      <th>director</th>\n      <th>cast</th>\n      <th>country</th>\n      <th>date_added</th>\n      <th>release_year</th>\n      <th>rating</th>\n      <th>duration</th>\n      <th>listed_in</th>\n      <th>description</th>\n    </tr>\n  </thead>\n  <tbody>\n    <tr>\n      <th>0</th>\n      <td>s1</td>\n      <td>TV Show</td>\n      <td>3%</td>\n      <td></td>\n      <td>joão miguel, bianca comparato, michel gomes, r...</td>\n      <td>Brazil</td>\n      <td>August 14, 2020</td>\n      <td>2020</td>\n      <td>TV-MA</td>\n      <td>4 Seasons</td>\n      <td>international tv shows, tv dramas, tv sci-fi &amp;...</td>\n      <td>in a future where the elite inhabit an island ...</td>\n    </tr>\n    <tr>\n      <th>1</th>\n      <td>s2</td>\n      <td>Movie</td>\n      <td>7:19</td>\n      <td>jorge michel grau</td>\n      <td>demián bichir, héctor bonilla, oscar serrano, ...</td>\n      <td>Mexico</td>\n      <td>December 23, 2016</td>\n      <td>2016</td>\n      <td>TV-MA</td>\n      <td>93 min</td>\n      <td>dramas, international movies</td>\n      <td>after a devastating earthquake hits mexico cit...</td>\n    </tr>\n    <tr>\n      <th>2</th>\n      <td>s3</td>\n      <td>Movie</td>\n      <td>23:59</td>\n      <td>gilbert chan</td>\n      <td>tedd chan, stella chung, henley hii, lawrence ...</td>\n      <td>Singapore</td>\n      <td>December 20, 2018</td>\n      <td>2011</td>\n      <td>R</td>\n      <td>78 min</td>\n      <td>horror movies, international movies</td>\n      <td>when an army recruit is found dead his fellow ...</td>\n    </tr>\n  </tbody>\n</table>\n</div>"
     },
     "metadata": {},
     "execution_count": 10
    }
   ],
   "source": [
    "df['cast'] = df['cast'].apply(lambda x: correct_text(x))\n",
    "df['director'] = df['director'].apply(lambda x: correct_text(x))\n",
    "df['listed_in'] = df['listed_in'].apply(lambda x: correct_text(x))\n",
    "df.head(3)"
   ]
  },
  {
   "source": [
    "Добавим слова по которым будет определяться сходство фильмов в столбец 'combined'. "
   ],
   "cell_type": "markdown",
   "metadata": {}
  },
  {
   "cell_type": "code",
   "execution_count": 11,
   "metadata": {},
   "outputs": [
    {
     "output_type": "stream",
     "name": "stderr",
     "text": [
      "c:\\Users\\Dell\\Documents\\Geek_Brains\\ML_In_Business\\GeekBrains_CursProjects\\ML_in_business\\src\\utils.py:41: SettingWithCopyWarning: \nA value is trying to be set on a copy of a slice from a DataFrame\n\nSee the caveats in the documentation: https://pandas.pydata.org/pandas-docs/stable/user_guide/indexing.html#returning-a-view-versus-a-copy\n  df[output_collumn][ind] = ','.join(text_list)\n"
     ]
    }
   ],
   "source": [
    "join_collumns(df,'combined',['type','director','cast','country','rating','listed_in','description'])"
   ]
  },
  {
   "cell_type": "code",
   "execution_count": 12,
   "metadata": {},
   "outputs": [
    {
     "output_type": "execute_result",
     "data": {
      "text/plain": [
       "  show_id     type  title           director  \\\n",
       "0      s1  TV Show     3%                      \n",
       "1      s2    Movie   7:19  jorge michel grau   \n",
       "2      s3    Movie  23:59       gilbert chan   \n",
       "\n",
       "                                                cast    country  \\\n",
       "0  joão miguel, bianca comparato, michel gomes, r...     Brazil   \n",
       "1  demián bichir, héctor bonilla, oscar serrano, ...     Mexico   \n",
       "2  tedd chan, stella chung, henley hii, lawrence ...  Singapore   \n",
       "\n",
       "          date_added  release_year rating   duration  \\\n",
       "0    August 14, 2020          2020  TV-MA  4 Seasons   \n",
       "1  December 23, 2016          2016  TV-MA     93 min   \n",
       "2  December 20, 2018          2011      R     78 min   \n",
       "\n",
       "                                           listed_in  \\\n",
       "0  international tv shows, tv dramas, tv sci-fi &...   \n",
       "1                       dramas, international movies   \n",
       "2                horror movies, international movies   \n",
       "\n",
       "                                         description  \\\n",
       "0  in a future where the elite inhabit an island ...   \n",
       "1  after a devastating earthquake hits mexico cit...   \n",
       "2  when an army recruit is found dead his fellow ...   \n",
       "\n",
       "                                            combined  \n",
       "0  tv show,joão miguel, bianca comparato, michel ...  \n",
       "1  movie,jorge michel grau,demián bichir, héctor ...  \n",
       "2  movie,gilbert chan,tedd chan, stella chung, he...  "
      ],
      "text/html": "<div>\n<style scoped>\n    .dataframe tbody tr th:only-of-type {\n        vertical-align: middle;\n    }\n\n    .dataframe tbody tr th {\n        vertical-align: top;\n    }\n\n    .dataframe thead th {\n        text-align: right;\n    }\n</style>\n<table border=\"1\" class=\"dataframe\">\n  <thead>\n    <tr style=\"text-align: right;\">\n      <th></th>\n      <th>show_id</th>\n      <th>type</th>\n      <th>title</th>\n      <th>director</th>\n      <th>cast</th>\n      <th>country</th>\n      <th>date_added</th>\n      <th>release_year</th>\n      <th>rating</th>\n      <th>duration</th>\n      <th>listed_in</th>\n      <th>description</th>\n      <th>combined</th>\n    </tr>\n  </thead>\n  <tbody>\n    <tr>\n      <th>0</th>\n      <td>s1</td>\n      <td>TV Show</td>\n      <td>3%</td>\n      <td></td>\n      <td>joão miguel, bianca comparato, michel gomes, r...</td>\n      <td>Brazil</td>\n      <td>August 14, 2020</td>\n      <td>2020</td>\n      <td>TV-MA</td>\n      <td>4 Seasons</td>\n      <td>international tv shows, tv dramas, tv sci-fi &amp;...</td>\n      <td>in a future where the elite inhabit an island ...</td>\n      <td>tv show,joão miguel, bianca comparato, michel ...</td>\n    </tr>\n    <tr>\n      <th>1</th>\n      <td>s2</td>\n      <td>Movie</td>\n      <td>7:19</td>\n      <td>jorge michel grau</td>\n      <td>demián bichir, héctor bonilla, oscar serrano, ...</td>\n      <td>Mexico</td>\n      <td>December 23, 2016</td>\n      <td>2016</td>\n      <td>TV-MA</td>\n      <td>93 min</td>\n      <td>dramas, international movies</td>\n      <td>after a devastating earthquake hits mexico cit...</td>\n      <td>movie,jorge michel grau,demián bichir, héctor ...</td>\n    </tr>\n    <tr>\n      <th>2</th>\n      <td>s3</td>\n      <td>Movie</td>\n      <td>23:59</td>\n      <td>gilbert chan</td>\n      <td>tedd chan, stella chung, henley hii, lawrence ...</td>\n      <td>Singapore</td>\n      <td>December 20, 2018</td>\n      <td>2011</td>\n      <td>R</td>\n      <td>78 min</td>\n      <td>horror movies, international movies</td>\n      <td>when an army recruit is found dead his fellow ...</td>\n      <td>movie,gilbert chan,tedd chan, stella chung, he...</td>\n    </tr>\n  </tbody>\n</table>\n</div>"
     },
     "metadata": {},
     "execution_count": 12
    }
   ],
   "source": [
    "df.head(3)"
   ]
  },
  {
   "cell_type": "code",
   "execution_count": 13,
   "metadata": {},
   "outputs": [],
   "source": [
    "# При сосщдании токенов бкдем использовать в качестве разделителя \",\".   \n",
    "tfv = TfidfVectorizer(\n",
    "                      # min_df = 3,\n",
    "                      # max_features = None,\n",
    "                      # analyzer = 'word',\n",
    "                      # ngram_range = (1,2), \n",
    "                      token_pattern = \"r[^,.]+\", \n",
    "                      # token_pattern = \"r\\w+\",\n",
    "                      # stop_words = 'english'\n",
    ")"
   ]
  },
  {
   "cell_type": "code",
   "execution_count": 14,
   "metadata": {},
   "outputs": [],
   "source": [
    "# tfv.tokenizer"
   ]
  },
  {
   "cell_type": "code",
   "execution_count": 15,
   "metadata": {},
   "outputs": [],
   "source": [
    "tfv_matrix = tfv.fit_transform(df['combined'])"
   ]
  },
  {
   "cell_type": "code",
   "execution_count": 16,
   "metadata": {},
   "outputs": [],
   "source": [
    "sig = sigmoid_kernel(tfv_matrix,tfv_matrix)\n",
    "# print(sig[1])\n",
    "indices = pd.Series(df.index,index = df['title']).drop_duplicates()"
   ]
  },
  {
   "cell_type": "code",
   "execution_count": 17,
   "metadata": {},
   "outputs": [
    {
     "output_type": "stream",
     "name": "stdout",
     "text": [
      "['Terminator 3: Rise of the Machines', 'Terminator Salvation']\n"
     ]
    }
   ],
   "source": [
    "# Организуем поиск по фильму.\n",
    "# Будем заголовки фильмов, в которых встречаются слова из поискового запроса.\n",
    "def search_moves(text_title = ''):\n",
    "    id_list = []\n",
    "    text_title = text_title.lower()  \n",
    "    for ind, title in enumerate(df['title']):\n",
    "        title_lower = title.lower()\n",
    "        if (title_lower.find(text_title)>-1):\n",
    "            id_list.append(title)\n",
    "    return id_list\n",
    "\n",
    "# Проверка !!! \n",
    "print(search_moves('terminator'))"
   ]
  },
  {
   "cell_type": "code",
   "execution_count": 19,
   "metadata": {},
   "outputs": [
    {
     "output_type": "execute_result",
     "data": {
      "text/plain": [
       "[\"BoJack Horseman Christmas Special: Sabrina's Christmas Wish\",\n",
       " 'Chilling Adventures of Sabrina',\n",
       " 'Sabrina']"
      ]
     },
     "metadata": {},
     "execution_count": 19
    }
   ],
   "source": [
    "search_moves('sabrina')"
   ]
  },
  {
   "source": [
    "Проверим работу рекомендальеной системы. "
   ],
   "cell_type": "markdown",
   "metadata": {}
  },
  {
   "cell_type": "code",
   "execution_count": 20,
   "metadata": {},
   "outputs": [],
   "source": [
    "def recommend(title,n):\n",
    "    idx = indices[title]\n",
    "    sim_scores = list(enumerate(sig[idx]))\n",
    "    sim_scores = sorted(sim_scores,key = lambda x:x[1], reverse = True)\n",
    "    sim_scores = sim_scores[1:n+1]\n",
    "    movies_indices = [i[0] for i in sim_scores]\n",
    "    return df['title'].iloc[movies_indices]"
   ]
  },
  {
   "cell_type": "code",
   "execution_count": 21,
   "metadata": {},
   "outputs": [
    {
     "output_type": "execute_result",
     "data": {
      "text/plain": [
       "6800         The Rainmaker\n",
       "5794              Stardust\n",
       "7681            Wyatt Earp\n",
       "5544    Shattered Memories\n",
       "330              Aftermath\n",
       "Name: title, dtype: object"
      ]
     },
     "metadata": {},
     "execution_count": 21
    }
   ],
   "source": [
    "recommend('Terminator 3: Rise of the Machines',5)"
   ]
  },
  {
   "cell_type": "code",
   "execution_count": 22,
   "metadata": {},
   "outputs": [
    {
     "output_type": "execute_result",
     "data": {
      "text/plain": [
       "6870                                   The Silence\n",
       "6876                                    The Sinner\n",
       "5447    Seal Team Six: The Raid on Osama Bin Laden\n",
       "6271                                  The Daughter\n",
       "1367                         Christmas Inheritance\n",
       "Name: title, dtype: object"
      ]
     },
     "metadata": {},
     "execution_count": 22
    }
   ],
   "source": [
    "recommend('Chilling Adventures of Sabrina',5)"
   ]
  },
  {
   "cell_type": "code",
   "execution_count": 23,
   "metadata": {},
   "outputs": [],
   "source": [
    "from sklearn.metrics.pairwise import cosine_similarity\n",
    "cosine_sim = cosine_similarity(tfv_matrix, tfv_matrix)\n",
    "# cosine_sim"
   ]
  },
  {
   "cell_type": "code",
   "execution_count": 24,
   "metadata": {},
   "outputs": [
    {
     "output_type": "execute_result",
     "data": {
      "text/plain": [
       "6870                                   The Silence\n",
       "6876                                    The Sinner\n",
       "5447    Seal Team Six: The Raid on Osama Bin Laden\n",
       "6271                                  The Daughter\n",
       "1367                         Christmas Inheritance\n",
       "Name: title, dtype: object"
      ]
     },
     "metadata": {},
     "execution_count": 24
    }
   ],
   "source": [
    "def recommend_1(title,n):\n",
    "    idx = indices[title]\n",
    "    sim_scores = list(enumerate(cosine_sim[idx]))\n",
    "    sim_scores = sorted(sim_scores,key = lambda x:x[1], reverse = True)\n",
    "    sim_scores = sim_scores[1:n+1]\n",
    "    movies_indices = [i[0] for i in sim_scores]\n",
    "    return df['title'].iloc[movies_indices] #df.iloc[movies_indices]\n",
    "\n",
    "# С косинусной мерой - результат тот же самый.  \n",
    "recommend_1('Chilling Adventures of Sabrina',5)"
   ]
  },
  {
   "source": [
    "Сохраняем обученную модель."
   ],
   "cell_type": "markdown",
   "metadata": {}
  },
  {
   "cell_type": "code",
   "execution_count": 25,
   "metadata": {},
   "outputs": [],
   "source": [
    "with open(\"data/tfidf_netflix.dill\", \"wb\") as f:\n",
    "    dill.dump(tfv_matrix, f)"
   ]
  }
 ]
}