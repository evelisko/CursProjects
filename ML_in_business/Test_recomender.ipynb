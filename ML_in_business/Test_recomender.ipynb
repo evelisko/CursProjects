{
 "metadata": {
  "language_info": {
   "codemirror_mode": {
    "name": "ipython",
    "version": 3
   },
   "file_extension": ".py",
   "mimetype": "text/x-python",
   "name": "python",
   "nbconvert_exporter": "python",
   "pygments_lexer": "ipython3",
   "version": "3.8.5"
  },
  "orig_nbformat": 2,
  "kernelspec": {
   "name": "python385jvsc74a57bd03f800561dde6209f0c647b1ec24b295364b37801e2a63d392a491285ef4d5a88",
   "display_name": "Python 3.8.5 64-bit ('Dell': virtualenv)"
  }
 },
 "nbformat": 4,
 "nbformat_minor": 2,
 "cells": [
  {
   "source": [
    "### Проверка того, что наше api работает\n",
    "\n",
    "Перед началом необходимо собрать docker-образ и запустить контейнер\n",
    "    \n",
    "    1. Собрать докер контейнер согласно иснтрукции из README;\n",
    "    2. Запустить контейнер;\n",
    "    3. Запустить код ниже. "
   ],
   "cell_type": "markdown",
   "metadata": {}
  },
  {
   "cell_type": "code",
   "execution_count": 1,
   "metadata": {},
   "outputs": [
    {
     "output_type": "stream",
     "name": "stderr",
     "text": [
      "C:\\Users\\Dell\\anaconda3\\lib\\site-packages\\sklearn\\utils\\deprecation.py:143: FutureWarning: The sklearn.metrics.scorer module is  deprecated in version 0.22 and will be removed in version 0.24. The corresponding classes / functions should instead be imported from sklearn.metrics. Anything that cannot be imported from sklearn.metrics is now part of the private API.\n  warnings.warn(message, FutureWarning)\n"
     ]
    }
   ],
   "source": [
    "import pandas as pd\n",
    "import urllib.request\n",
    "import json \n",
    "from sklearn.metrics import roc_auc_score,roc_curve,scorer\n",
    "from urllib import request, parse\n"
   ]
  },
  {
   "cell_type": "code",
   "execution_count": 2,
   "metadata": {},
   "outputs": [],
   "source": [
    " # URL адрес нашего сервера, где.\n",
    " myurl = \"http://localhost:8180/netflix_films\"\n",
    "    "
   ]
  },
  {
   "cell_type": "code",
   "execution_count": 3,
   "metadata": {},
   "outputs": [],
   "source": [
    "# Процедура для отправки POST запросов к серверу.\n",
    "def flask_server_exchenge(body={}):\n",
    "    req = urllib.request.Request(myurl)\n",
    "    req.add_header('Content-Type', 'application/json; charset=utf-8')\n",
    "    jsondata = json.dumps(body)\n",
    "    jsondata_as_bytes = jsondata.encode('utf-8')   # needs to be bytes\n",
    "    req.add_header('Content-Length', len(jsondata_as_bytes))\n",
    "    response = urllib.request.urlopen(req, jsondata_as_bytes)\n",
    "    return json.loads(response.read())\n",
    "\n"
   ]
  },
  {
   "cell_type": "code",
   "execution_count": 4,
   "metadata": {},
   "outputs": [],
   "source": [
    "# Выполняет поиск фильма в датасете.\n",
    "def search_films(field_array=None):\n",
    "    result = 0\n",
    "    title = field_array\n",
    "    body = {\n",
    "            'method':\"search_films\", \n",
    "            'title': title}\n",
    "    titles = flask_server_exchenge(body)['titles']\n",
    "    ind = 1\n",
    "    for title in titles:\n",
    "            print(f'{ind} : {title}')\n",
    "            ind += 1"
   ]
  },
  {
   "cell_type": "code",
   "execution_count": 5,
   "metadata": {},
   "outputs": [],
   "source": [
    "# Возвращает описание фильма. \n",
    "def film_info(field_array=None):\n",
    "    result = 0\n",
    "    title = field_array\n",
    "    body = {\n",
    "            'method':\"film_info\", \n",
    "            'title': title} \n",
    "    return flask_server_exchenge(body)['description']"
   ]
  },
  {
   "cell_type": "code",
   "execution_count": 6,
   "metadata": {},
   "outputs": [],
   "source": [
    "# возвращает список рекоммендаций для нашего фильма. По принципу схожести. \n",
    "def get_recomendations(title, count = 5):\n",
    "    result = 0\n",
    "    body = {\n",
    "            'method':'recomendations',\n",
    "            'title': title,\n",
    "            'count': count\n",
    "            } \n",
    "    titles = flask_server_exchenge(body)['titles']\n",
    "    ind = 1\n",
    "    for title in titles:\n",
    "            print(f'{ind} : {title}')\n",
    "            ind +=1"
   ]
  },
  {
   "source": [
    "### Проверка "
   ],
   "cell_type": "markdown",
   "metadata": {}
  },
  {
   "cell_type": "code",
   "execution_count": 7,
   "metadata": {},
   "outputs": [
    {
     "output_type": "stream",
     "name": "stdout",
     "text": [
      "1 : Making The Witcher\n2 : The Witcher\n3 : The Witcher: A Look Inside the Episodes\n"
     ]
    }
   ],
   "source": [
    "search_films('Witcher')"
   ]
  },
  {
   "cell_type": "code",
   "execution_count": 8,
   "metadata": {},
   "outputs": [
    {
     "output_type": "stream",
     "name": "stdout",
     "text": [
      "1 : BoJack Horseman Christmas Special: Sabrina's Christmas Wish\n2 : Chilling Adventures of Sabrina\n3 : Sabrina\n"
     ]
    }
   ],
   "source": [
    "search_films('sabrina')"
   ]
  },
  {
   "cell_type": "code",
   "execution_count": 9,
   "metadata": {},
   "outputs": [
    {
     "output_type": "execute_result",
     "data": {
      "text/plain": [
       "\"Magic and mischief collide as half-human, half-witch Sabrina navigates between two worlds: mortal teen life and her family's legacy, the Church of Night.\""
      ]
     },
     "metadata": {},
     "execution_count": 9
    }
   ],
   "source": [
    "film_info('Chilling Adventures of Sabrina')"
   ]
  },
  {
   "cell_type": "code",
   "execution_count": 10,
   "metadata": {},
   "outputs": [
    {
     "output_type": "stream",
     "name": "stdout",
     "text": [
      "1 : The Silence\n2 : Fear Files... Har Mod Pe Darr\n3 : Haunters: The Art of the Scare\n4 : The Sinner\n5 : The Legend of Korra\n"
     ]
    }
   ],
   "source": [
    "get_recomendations('Chilling Adventures of Sabrina',5)"
   ]
  },
  {
   "cell_type": "code",
   "execution_count": 11,
   "metadata": {},
   "outputs": [
    {
     "output_type": "stream",
     "name": "stdout",
     "text": [
      "1 : The Witcher: A Look Inside the Episodes\n",
      "2 : Making The Witcher\n",
      "3 : Little Dragon Maiden\n",
      "4 : Justin Time\n",
      "5 : Extreme Engagement\n",
      "6 : Lionheart\n",
      "7 : Supermarket Sweep\n"
     ]
    }
   ],
   "source": [
    "get_recomendations('The Witcher',7)"
   ]
  }
 ]
}