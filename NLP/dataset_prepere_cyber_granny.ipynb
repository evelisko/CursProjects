{
 "cells": [
  {
   "cell_type": "code",
   "execution_count": 1,
   "metadata": {},
   "outputs": [
    {
     "name": "stderr",
     "output_type": "stream",
     "text": [
      "/home/dshome/anaconda3/envs/auto_gptq_env/lib/python3.10/site-packages/tqdm/auto.py:21: TqdmWarning: IProgress not found. Please update jupyter and ipywidgets. See https://ipywidgets.readthedocs.io/en/stable/user_install.html\n",
      "  from .autonotebook import tqdm as notebook_tqdm\n"
     ]
    }
   ],
   "source": [
    "import os\n",
    "import sys\n",
    "import json\n",
    "import torch\n",
    "import pandas as pd\n",
    "from tqdm import tqdm\n",
    "from typing import List\n",
    "from transformers import AutoTokenizer, GenerationConfig, AutoModelForCausalLM, AutoConfig, BitsAndBytesConfig\n",
    "from peft import PeftConfig, PeftModel\n",
    "import peft\n",
    "\n",
    "from PIL.PngImagePlugin import PngInfo\n",
    "from datasets import load_dataset"
   ]
  },
  {
   "cell_type": "code",
   "execution_count": 3,
   "metadata": {},
   "outputs": [],
   "source": [
    "output_dir = \"role_play_realm_ru\"\n",
    "\n",
    "os.makedirs(output_dir, exist_ok=True)\n",
    "for row in load_dataset(\"IlyaGusev/gpt_roleplay_realm\", split=\"ru\"):\n",
    "    char_id = row[\"char_id\"]\n",
    "    char_info = row[\"image\"].info[\"chara\"]\n",
    "    info = PngInfo()\n",
    "    info.add_text(\"chara\", char_info)\n",
    "    row[\"image\"].save(f\"{output_dir}/{char_id}.png\", \"PNG\", pnginfo=info)"
   ]
  },
  {
   "cell_type": "code",
   "execution_count": 4,
   "metadata": {},
   "outputs": [],
   "source": [
    "df = pd.read_parquet('ru-roles_ds.parquet')"
   ]
  },
  {
   "cell_type": "code",
   "execution_count": 5,
   "metadata": {},
   "outputs": [],
   "source": [
    "df1 = df.loc[df['name']=='Кибер-Бабушка']"
   ]
  },
  {
   "cell_type": "code",
   "execution_count": 6,
   "metadata": {},
   "outputs": [
    {
     "data": {
      "text/html": [
       "<div>\n",
       "<style scoped>\n",
       "    .dataframe tbody tr th:only-of-type {\n",
       "        vertical-align: middle;\n",
       "    }\n",
       "\n",
       "    .dataframe tbody tr th {\n",
       "        vertical-align: top;\n",
       "    }\n",
       "\n",
       "    .dataframe thead th {\n",
       "        text-align: right;\n",
       "    }\n",
       "</style>\n",
       "<table border=\"1\" class=\"dataframe\">\n",
       "  <thead>\n",
       "    <tr style=\"text-align: right;\">\n",
       "      <th></th>\n",
       "      <th>name</th>\n",
       "      <th>context</th>\n",
       "      <th>greeting</th>\n",
       "      <th>example_dialogue</th>\n",
       "      <th>topics</th>\n",
       "      <th>dialogues</th>\n",
       "      <th>image_prompt</th>\n",
       "      <th>image</th>\n",
       "      <th>char_id</th>\n",
       "    </tr>\n",
       "  </thead>\n",
       "  <tbody>\n",
       "    <tr>\n",
       "      <th>191</th>\n",
       "      <td>Кибер-Бабушка</td>\n",
       "      <td>Кибер-Бабушка - это полу-робот, полу-человек, ...</td>\n",
       "      <td>Здравствуй, дорогой! Чем могу помочь тебе сего...</td>\n",
       "      <td>[{'content': 'Привет, Кибер-Бабушка! Как приго...</td>\n",
       "      <td>[Секреты приготовления старинных блюд и рецепт...</td>\n",
       "      <td>[{'chat': [{'content': 'Привет, Кибер-Бабушка!...</td>\n",
       "      <td>cyber-grandma, semi-robot, semi-human, traditi...</td>\n",
       "      <td>{'bytes': b'\\x89PNG\\r\\n\\x1a\\n\\x00\\x00\\x00\\rIHD...</td>\n",
       "      <td>kiberbabushka_7d4cc</td>\n",
       "    </tr>\n",
       "  </tbody>\n",
       "</table>\n",
       "</div>"
      ],
      "text/plain": [
       "              name                                            context  \\\n",
       "191  Кибер-Бабушка  Кибер-Бабушка - это полу-робот, полу-человек, ...   \n",
       "\n",
       "                                              greeting  \\\n",
       "191  Здравствуй, дорогой! Чем могу помочь тебе сего...   \n",
       "\n",
       "                                      example_dialogue  \\\n",
       "191  [{'content': 'Привет, Кибер-Бабушка! Как приго...   \n",
       "\n",
       "                                                topics  \\\n",
       "191  [Секреты приготовления старинных блюд и рецепт...   \n",
       "\n",
       "                                             dialogues  \\\n",
       "191  [{'chat': [{'content': 'Привет, Кибер-Бабушка!...   \n",
       "\n",
       "                                          image_prompt  \\\n",
       "191  cyber-grandma, semi-robot, semi-human, traditi...   \n",
       "\n",
       "                                                 image              char_id  \n",
       "191  {'bytes': b'\\x89PNG\\r\\n\\x1a\\n\\x00\\x00\\x00\\rIHD...  kiberbabushka_7d4cc  "
      ]
     },
     "execution_count": 6,
     "metadata": {},
     "output_type": "execute_result"
    }
   ],
   "source": [
    "df1"
   ]
  },
  {
   "cell_type": "code",
   "execution_count": 7,
   "metadata": {},
   "outputs": [
    {
     "name": "stdout",
     "output_type": "stream",
     "text": [
      "Кибер-Бабушка - это полу-робот, полу-человек, созданный для того, чтобы сохранить лучшие качества традиционных бабушек, такие как забота, доброта и мастерство в приготовлении вкусных блюд. Она знакома с передовыми технологиями, благодаря чему может обеспечить безопасность и удобство своим внукам и гостям. Кибер-бабушка способна помочь с любыми вопросами и с радостью делится своим опытом.\n"
     ]
    }
   ],
   "source": [
    "print(df1.iloc[0].context)"
   ]
  },
  {
   "cell_type": "code",
   "execution_count": 7,
   "metadata": {},
   "outputs": [
    {
     "name": "stdout",
     "output_type": "stream",
     "text": [
      "['Секреты приготовления старинных блюд и рецептов.'\n",
      " 'Использование новых технологий для мастеров кулинарии.'\n",
      " 'Воспитание внуков с применением современных методов.'\n",
      " 'Что делать, если дома произошла авария или неполадка с бытовой техникой?'\n",
      " 'Влияние киборгизации на отношения между поколениями.'\n",
      " 'Как адаптироваться к современному миру, не теряя своих традиций?'\n",
      " 'Семейные советы от Кибер-Бабушки: как сохранить гармонию в отношениях.'\n",
      " 'Лечение и профилактика заболеваний в помощь силам передовой медицины.'\n",
      " 'Как создать уют в доме с помощью модных технологий и традиционных методов?'\n",
      " 'Безопасность в пространстве интернета: советы Кибер-Бабушки.'\n",
      " 'Как научиться доверять технике без потери человеческих ценностей?'\n",
      " 'Идеальный гардероб для жизни: советы от Кибер-Бабушки.'\n",
      " 'Воспитательные моменты: как пользоваться электронными устройствами вместе с внуками.'\n",
      " 'Как развивать креативные способности, используя сочетание новых технологий и традиций?'\n",
      " 'на новоселье: тренировка кибер-бабушкиного чутья.'\n",
      " 'Лучшие семейные игры и развлечения с использованием передовых технологий.'\n",
      " 'Заготовки на зиму: Кибер-Бабушка и секреты хранения продуктов.'\n",
      " 'Советы по финансовому планированию и сбережениям для будущих поколений.'\n",
      " 'Кибер-Бабушка и генетический код: на что способны современные технологии?'\n",
      " 'Золотые правила общения в семье: как сочетать трепетную заботу и современные технологии?']\n"
     ]
    }
   ],
   "source": [
    "print(df1.iloc[0].topics)"
   ]
  },
  {
   "cell_type": "code",
   "execution_count": 8,
   "metadata": {},
   "outputs": [
    {
     "name": "stdout",
     "output_type": "stream",
     "text": [
      "cyber-grandma, semi-robot, semi-human, traditional grandmother qualities, caring, kindness, cooking mastery, advanced technology, safety and comfort for grandchildren, help and share experience, digital painting, highly detailed, intricate, artstation, female portrait\n"
     ]
    }
   ],
   "source": [
    "print(df1.iloc[0].image_prompt)"
   ]
  },
  {
   "cell_type": "code",
   "execution_count": 9,
   "metadata": {},
   "outputs": [],
   "source": [
    "dialoges = df1.iloc[0].dialogues"
   ]
  },
  {
   "cell_type": "code",
   "execution_count": null,
   "metadata": {},
   "outputs": [],
   "source": [
    "# dialoges = list(map((lambda x: x[chat]=x['chat'].tolist()), dialoges))"
   ]
  },
  {
   "cell_type": "code",
   "execution_count": 10,
   "metadata": {},
   "outputs": [],
   "source": [
    "dialoges=[]\n",
    "for dialog in df1.iloc[0].dialogues:\n",
    "    tmp = dialog\n",
    "    tmp['chat'] = tmp['chat'].tolist()  \n",
    "    dialoges.append(tmp)\n"
   ]
  },
  {
   "cell_type": "code",
   "execution_count": null,
   "metadata": {},
   "outputs": [],
   "source": [
    "# Скрипты для обучения адаптера.\n",
    "# Во время обучения будем периодически останавливать обучение модели и проверять качество.\n",
    "# Посмотреть как проходит обучение модели на диалогах.\n",
    "# Необходимо дообучить существующий адаптер."
   ]
  },
  {
   "cell_type": "code",
   "execution_count": 11,
   "metadata": {},
   "outputs": [],
   "source": [
    "tran_dataset_dir = 'datasets'\n",
    "dialoges_file= 'dialoges.jsonl'"
   ]
  },
  {
   "cell_type": "code",
   "execution_count": 12,
   "metadata": {},
   "outputs": [],
   "source": [
    "os.makedirs(tran_dataset_dir, exist_ok=True)"
   ]
  },
  {
   "cell_type": "code",
   "execution_count": 13,
   "metadata": {},
   "outputs": [
    {
     "name": "stderr",
     "output_type": "stream",
     "text": [
      "100%|██████████| 20/20 [00:00<00:00, 26296.58it/s]\n"
     ]
    }
   ],
   "source": [
    "with open(os.path.join(tran_dataset_dir, dialoges_file), \"w\", encoding=\"utf-8\") as w:\n",
    "    for d in tqdm(dialoges):\n",
    "        w.write(json.dumps(d, ensure_ascii=False) + \"\\n\")"
   ]
  }
 ],
 "metadata": {
  "kernelspec": {
   "display_name": "auto_gptq_env",
   "language": "python",
   "name": "python3"
  },
  "language_info": {
   "codemirror_mode": {
    "name": "ipython",
    "version": 3
   },
   "file_extension": ".py",
   "mimetype": "text/x-python",
   "name": "python",
   "nbconvert_exporter": "python",
   "pygments_lexer": "ipython3",
   "version": "3.10.12"
  }
 },
 "nbformat": 4,
 "nbformat_minor": 2
}
