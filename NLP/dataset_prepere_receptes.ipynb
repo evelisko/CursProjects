{
 "cells": [
  {
   "cell_type": "code",
   "execution_count": null,
   "metadata": {},
   "outputs": [],
   "source": [
    "# Реализуем процесс обучения адаптера\n",
    "\n",
    "# Загрузить модель. \n",
    "# Загрузить лору. Какую модель будем использовать?\n",
    "# Загрузить данные для дообучения модели.\n",
    "\n",
    "# Откуда взять датасет для дообучения модели.\n",
    "# 1. Из урока. В ноутбуке есть ссылка на датасет для дообучение мод ели.\n",
    "# 2. Из датасет а Ильи Гусева. Попробуем взять его.\n",
    "\n",
    "# Надо посмотреть как можно загружать на диск данные с google-colab."
   ]
  },
  {
   "cell_type": "code",
   "execution_count": 1,
   "metadata": {},
   "outputs": [],
   "source": [
    "import os\n",
    "import sys\n",
    "import json\n",
    "# import torch\n",
    "import pandas as pd\n",
    "from tqdm import tqdm\n",
    "from typing import List\n",
    "# from transformers import AutoTokenizer, GenerationConfig, AutoModelForCausalLM, AutoConfig, BitsAndBytesConfig\n",
    "# from peft import PeftConfig, PeftModel\n",
    "# import peft"
   ]
  },
  {
   "cell_type": "code",
   "execution_count": 2,
   "metadata": {},
   "outputs": [],
   "source": [
    "df = pd.read_csv(\"all_recepies_inter.csv\", sep=\"\\t\", usecols=[\"name\", \"Инструкции\"]).rename(columns={\"Инструкции\": \"instructions\"})"
   ]
  },
  {
   "cell_type": "code",
   "execution_count": 3,
   "metadata": {},
   "outputs": [
    {
     "data": {
      "text/html": [
       "<div>\n",
       "<style scoped>\n",
       "    .dataframe tbody tr th:only-of-type {\n",
       "        vertical-align: middle;\n",
       "    }\n",
       "\n",
       "    .dataframe tbody tr th {\n",
       "        vertical-align: top;\n",
       "    }\n",
       "\n",
       "    .dataframe thead th {\n",
       "        text-align: right;\n",
       "    }\n",
       "</style>\n",
       "<table border=\"1\" class=\"dataframe\">\n",
       "  <thead>\n",
       "    <tr style=\"text-align: right;\">\n",
       "      <th></th>\n",
       "      <th>name</th>\n",
       "      <th>instructions</th>\n",
       "    </tr>\n",
       "  </thead>\n",
       "  <tbody>\n",
       "    <tr>\n",
       "      <th>0</th>\n",
       "      <td>рассольник классический с перловкой и солеными...</td>\n",
       "      <td>Подготовить указанные ингредиенты для приготов...</td>\n",
       "    </tr>\n",
       "    <tr>\n",
       "      <th>1</th>\n",
       "      <td>Суп пюре из белокочаной капусты</td>\n",
       "      <td>Необходимые ингредиенты\\r\\nНарезаем лук, морко...</td>\n",
       "    </tr>\n",
       "    <tr>\n",
       "      <th>2</th>\n",
       "      <td>Постные щи из квашеной капусты</td>\n",
       "      <td>Честно признаюсь, у меня не было репы на момен...</td>\n",
       "    </tr>\n",
       "    <tr>\n",
       "      <th>3</th>\n",
       "      <td>Тюря- простой суп быстро и вкусно</td>\n",
       "      <td>\\r\\nНачинаем мы приготовление тюри с того, что...</td>\n",
       "    </tr>\n",
       "    <tr>\n",
       "      <th>4</th>\n",
       "      <td>Фасолевый суп из красной фасоли</td>\n",
       "      <td>Подготовить ингредиенты. Для приготовления суп...</td>\n",
       "    </tr>\n",
       "  </tbody>\n",
       "</table>\n",
       "</div>"
      ],
      "text/plain": [
       "                                                name  \\\n",
       "0  рассольник классический с перловкой и солеными...   \n",
       "1                    Суп пюре из белокочаной капусты   \n",
       "2                     Постные щи из квашеной капусты   \n",
       "3                  Тюря- простой суп быстро и вкусно   \n",
       "4                    Фасолевый суп из красной фасоли   \n",
       "\n",
       "                                        instructions  \n",
       "0  Подготовить указанные ингредиенты для приготов...  \n",
       "1  Необходимые ингредиенты\\r\\nНарезаем лук, морко...  \n",
       "2  Честно признаюсь, у меня не было репы на момен...  \n",
       "3  \\r\\nНачинаем мы приготовление тюри с того, что...  \n",
       "4  Подготовить ингредиенты. Для приготовления суп...  "
      ]
     },
     "execution_count": 3,
     "metadata": {},
     "output_type": "execute_result"
    }
   ],
   "source": [
    "df.head()"
   ]
  },
  {
   "attachments": {},
   "cell_type": "markdown",
   "metadata": {},
   "source": [
    "## Формируем датасет для обучения модели."
   ]
  },
  {
   "cell_type": "code",
   "execution_count": 4,
   "metadata": {},
   "outputs": [
    {
     "name": "stderr",
     "output_type": "stream",
     "text": [
      "  0%|          | 0/27884 [00:00<?, ?it/s]"
     ]
    },
    {
     "name": "stderr",
     "output_type": "stream",
     "text": [
      "100%|██████████| 27884/27884 [00:01<00:00, 24754.65it/s]\n"
     ]
    }
   ],
   "source": [
    "dialoges = []\n",
    "for i in tqdm(range(len(df))):\n",
    "    dialog_format = {\n",
    "    \"messages\": [\n",
    "    {\"role\": \"user\", \"content\": df.iloc[i]['name']},\n",
    "    {\"role\": \"bot\", \"content\": df.iloc[i]['instructions']}\n",
    "    ],\n",
    "     \"source\": \"alpaca\"\n",
    "    }\n",
    "    # dialog_format['messages'][0]['content'] = \n",
    "    # dialog_format['messages'][1]['content'] = \n",
    "    dialoges.append(dialog_format)"
   ]
  },
  {
   "cell_type": "code",
   "execution_count": 5,
   "metadata": {},
   "outputs": [],
   "source": [
    "tran_dataset_dir = 'datasets'\n",
    "recepties= 'recepties.jsonl'"
   ]
  },
  {
   "cell_type": "code",
   "execution_count": 6,
   "metadata": {},
   "outputs": [],
   "source": [
    "os.makedirs(tran_dataset_dir, exist_ok=True)"
   ]
  },
  {
   "cell_type": "code",
   "execution_count": 7,
   "metadata": {},
   "outputs": [
    {
     "name": "stderr",
     "output_type": "stream",
     "text": [
      "100%|██████████| 27884/27884 [00:00<00:00, 90310.20it/s]\n"
     ]
    }
   ],
   "source": [
    "with open(os.path.join(tran_dataset_dir, recepties), \"w\", encoding=\"utf-8\") as w:\n",
    "    for d in tqdm(dialoges):\n",
    "        w.write(json.dumps(d, ensure_ascii=False) + \"\\n\")"
   ]
  },
  {
   "cell_type": "code",
   "execution_count": null,
   "metadata": {},
   "outputs": [],
   "source": []
  },
  {
   "cell_type": "code",
   "execution_count": null,
   "metadata": {},
   "outputs": [],
   "source": [
    "# Сохраненение датасета в файл."
   ]
  },
  {
   "cell_type": "code",
   "execution_count": null,
   "metadata": {},
   "outputs": [],
   "source": [
    "# Скрипты для обучения адаптера.\n",
    "# Во время обучения будем периодически останавливать обучение модели и проверять качество.\n",
    "# Посмотреть как проходит обучение модели на диалогах.\n",
    "# Необходимо дообучить существующий адаптер."
   ]
  },
  {
   "cell_type": "code",
   "execution_count": null,
   "metadata": {},
   "outputs": [],
   "source": []
  },
  {
   "cell_type": "code",
   "execution_count": null,
   "metadata": {},
   "outputs": [],
   "source": []
  },
  {
   "cell_type": "code",
   "execution_count": null,
   "metadata": {},
   "outputs": [],
   "source": []
  },
  {
   "cell_type": "code",
   "execution_count": null,
   "metadata": {},
   "outputs": [],
   "source": []
  },
  {
   "cell_type": "code",
   "execution_count": null,
   "metadata": {},
   "outputs": [],
   "source": []
  },
  {
   "cell_type": "code",
   "execution_count": null,
   "metadata": {},
   "outputs": [],
   "source": [
    "import subprocess\n",
    "from pathlib import Path\n",
    "\n",
    "# Set up paths\n",
    "content_dir = Path('.').resolve()\n",
    "train_full_path = content_dir / 'train_full.jsonl'\n",
    "val_full_path = content_dir / 'val_full.jsonl'\n",
    "\n",
    "# Run create_chat_set script from rulm\n",
    "module_directory = Path('rulm/self_instruct').resolve()\n",
    "subprocess.run(\n",
    "    ['python', '-m', 'src.data_processing.create_chat_set', str(train_full_path), str(val_full_path)],\n",
    "    cwd=module_directory,\n",
    "    check=True\n",
    ")\n",
    "\n",
    "# Check if train_full.jsonl exists\n",
    "if not train_full_path.exists():\n",
    "    raise FileNotFoundError(f\"{train_full_path} does not exist\")"
   ]
  }
 ],
 "metadata": {
  "kernelspec": {
   "display_name": "auto_gptq_env",
   "language": "python",
   "name": "python3"
  },
  "language_info": {
   "codemirror_mode": {
    "name": "ipython",
    "version": 3
   },
   "file_extension": ".py",
   "mimetype": "text/x-python",
   "name": "python",
   "nbconvert_exporter": "python",
   "pygments_lexer": "ipython3",
   "version": "3.10.12"
  }
 },
 "nbformat": 4,
 "nbformat_minor": 2
}
