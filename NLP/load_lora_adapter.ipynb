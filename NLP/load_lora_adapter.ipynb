{
 "cells": [
  {
   "cell_type": "code",
   "execution_count": 2,
   "metadata": {},
   "outputs": [],
   "source": [
    "import os\n",
    "import sys\n",
    "import json\n",
    "import torch\n",
    "from tqdm import tqdm\n",
    "from typing import List\n",
    "from transformers import AutoTokenizer, GenerationConfig, AutoModelForCausalLM, AutoConfig, BitsAndBytesConfig\n",
    "from peft import PeftConfig, PeftModel"
   ]
  },
  {
   "cell_type": "markdown",
   "metadata": {},
   "source": [
    "## Загрузка и сохранение на диск базовой модели."
   ]
  },
  {
   "cell_type": "code",
   "execution_count": null,
   "metadata": {},
   "outputs": [],
   "source": [
    "# MODEL_NAME = \"IlyaGusev/saiga2_7b_lora\"\n",
    "# tokenizer = AutoTokenizer.from_pretrained(MODEL_NAME, use_fast=False)\n",
    "# template_path = '/home/dshome/Projects/rulm/self_instruct/internal_prompts/saiga_v2.json'\n",
    "# config = PeftConfig.from_pretrained(MODEL_NAME)\n",
    "\n",
    "# base_model_config = AutoConfig.from_pretrained(config.base_model_name_or_path)\n",
    "\n",
    "# base_model = AutoModelForCausalLM.from_pretrained(\n",
    "#     config.base_model_name_or_path,\n",
    "#     torch_dtype=base_model_config.torch_dtype,\n",
    "#     load_in_8bit=True,\n",
    "#     device_map=\"auto\",\n",
    "# )\n",
    "# base_model.save_pretrained('models/base_model/')"
   ]
  },
  {
   "cell_type": "code",
   "execution_count": null,
   "metadata": {},
   "outputs": [],
   "source": [
    "# Загружаем базовую модель. \n",
    "# Загружаем Адаптер.\n",
    "# Загружаем токенайзер."
   ]
  },
  {
   "cell_type": "markdown",
   "metadata": {},
   "source": [
    "## Тестирование работы адаптера."
   ]
  },
  {
   "cell_type": "code",
   "execution_count": 3,
   "metadata": {},
   "outputs": [],
   "source": [
    "base_model_path = 'models/base_model/'\n",
    "adapter_path = 'models/'\n",
    "tockenizer_path = 'models/'"
   ]
  },
  {
   "cell_type": "code",
   "execution_count": 4,
   "metadata": {},
   "outputs": [
    {
     "name": "stderr",
     "output_type": "stream",
     "text": [
      "Special tokens have been added in the vocabulary, make sure the associated word embeddings are fine-tuned or trained.\n"
     ]
    }
   ],
   "source": [
    "device = \"cuda\" if torch.cuda.is_available() else \"cpu\"\n",
    "tokenizer = AutoTokenizer.from_pretrained(tockenizer_path, use_fast=False) #, padding_side='left')\n",
    "# generation_config = GenerationConfig.from_pretrained(model_name, do_sample=True)"
   ]
  },
  {
   "cell_type": "code",
   "execution_count": 5,
   "metadata": {},
   "outputs": [],
   "source": [
    "quantization_config=BitsAndBytesConfig(\n",
    "        load_in_8bit=True,\n",
    "        llm_int8_threshold=6.0,\n",
    "        llm_int8_has_fp16_weight=False,\n",
    "        # bnb_4bit_compute_dtype=self.torch_dtype,\n",
    "        # bnb_4bit_use_double_quant=True,\n",
    "        # bnb_4bit_quant_type=\"nf4\"\n",
    "    ),"
   ]
  },
  {
   "cell_type": "code",
   "execution_count": 6,
   "metadata": {},
   "outputs": [],
   "source": [
    "generation_config = GenerationConfig.from_pretrained(base_model_path,\n",
    "                                                     do_sample=True)"
   ]
  },
  {
   "cell_type": "code",
   "execution_count": 8,
   "metadata": {},
   "outputs": [
    {
     "ename": "AttributeError",
     "evalue": "'tuple' object has no attribute 'load_in_8bit'",
     "output_type": "error",
     "traceback": [
      "\u001b[0;31m---------------------------------------------------------------------------\u001b[0m",
      "\u001b[0;31mAttributeError\u001b[0m                            Traceback (most recent call last)",
      "\u001b[1;32m/home/dshome/Documents/GeekBrains/CursProjects/NLP/load_lora_adapter.ipynb Cell 10\u001b[0m line \u001b[0;36m6\n\u001b[1;32m      <a href='vscode-notebook-cell:/home/dshome/Documents/GeekBrains/CursProjects/NLP/load_lora_adapter.ipynb#X12sZmlsZQ%3D%3D?line=0'>1</a>\u001b[0m \u001b[39m# config = PeftConfig.from_pretrained(adapter_path)\u001b[39;00m\n\u001b[1;32m      <a href='vscode-notebook-cell:/home/dshome/Documents/GeekBrains/CursProjects/NLP/load_lora_adapter.ipynb#X12sZmlsZQ%3D%3D?line=1'>2</a>\u001b[0m \u001b[39m# base_model_config = AutoConfig.from_pretrained(base_model_path)\u001b[39;00m\n\u001b[1;32m      <a href='vscode-notebook-cell:/home/dshome/Documents/GeekBrains/CursProjects/NLP/load_lora_adapter.ipynb#X12sZmlsZQ%3D%3D?line=2'>3</a>\u001b[0m \n\u001b[1;32m      <a href='vscode-notebook-cell:/home/dshome/Documents/GeekBrains/CursProjects/NLP/load_lora_adapter.ipynb#X12sZmlsZQ%3D%3D?line=3'>4</a>\u001b[0m \u001b[39m# torch_dtype = base_model_config.torch_dtype\u001b[39;00m\n\u001b[0;32m----> <a href='vscode-notebook-cell:/home/dshome/Documents/GeekBrains/CursProjects/NLP/load_lora_adapter.ipynb#X12sZmlsZQ%3D%3D?line=5'>6</a>\u001b[0m base_model \u001b[39m=\u001b[39m AutoModelForCausalLM\u001b[39m.\u001b[39;49mfrom_pretrained(\n\u001b[1;32m      <a href='vscode-notebook-cell:/home/dshome/Documents/GeekBrains/CursProjects/NLP/load_lora_adapter.ipynb#X12sZmlsZQ%3D%3D?line=6'>7</a>\u001b[0m     base_model_path,\n\u001b[1;32m      <a href='vscode-notebook-cell:/home/dshome/Documents/GeekBrains/CursProjects/NLP/load_lora_adapter.ipynb#X12sZmlsZQ%3D%3D?line=7'>8</a>\u001b[0m     load_in_8bit\u001b[39m=\u001b[39;49m\u001b[39mTrue\u001b[39;49;00m,\n\u001b[1;32m      <a href='vscode-notebook-cell:/home/dshome/Documents/GeekBrains/CursProjects/NLP/load_lora_adapter.ipynb#X12sZmlsZQ%3D%3D?line=8'>9</a>\u001b[0m     quantization_config\u001b[39m=\u001b[39;49mquantization_config,\n\u001b[1;32m     <a href='vscode-notebook-cell:/home/dshome/Documents/GeekBrains/CursProjects/NLP/load_lora_adapter.ipynb#X12sZmlsZQ%3D%3D?line=9'>10</a>\u001b[0m     \u001b[39m# torch_dtype=torch_dtype,\u001b[39;49;00m\n\u001b[1;32m     <a href='vscode-notebook-cell:/home/dshome/Documents/GeekBrains/CursProjects/NLP/load_lora_adapter.ipynb#X12sZmlsZQ%3D%3D?line=10'>11</a>\u001b[0m     device_map\u001b[39m=\u001b[39;49m\u001b[39m\"\u001b[39;49m\u001b[39mauto\u001b[39;49m\u001b[39m\"\u001b[39;49m,\n\u001b[1;32m     <a href='vscode-notebook-cell:/home/dshome/Documents/GeekBrains/CursProjects/NLP/load_lora_adapter.ipynb#X12sZmlsZQ%3D%3D?line=11'>12</a>\u001b[0m )\n",
      "File \u001b[0;32m~/anaconda3/envs/auto_gptq_env/lib/python3.10/site-packages/transformers/models/auto/auto_factory.py:565\u001b[0m, in \u001b[0;36m_BaseAutoModelClass.from_pretrained\u001b[0;34m(cls, pretrained_model_name_or_path, *model_args, **kwargs)\u001b[0m\n\u001b[1;32m    563\u001b[0m \u001b[39melif\u001b[39;00m \u001b[39mtype\u001b[39m(config) \u001b[39min\u001b[39;00m \u001b[39mcls\u001b[39m\u001b[39m.\u001b[39m_model_mapping\u001b[39m.\u001b[39mkeys():\n\u001b[1;32m    564\u001b[0m     model_class \u001b[39m=\u001b[39m _get_model_class(config, \u001b[39mcls\u001b[39m\u001b[39m.\u001b[39m_model_mapping)\n\u001b[0;32m--> 565\u001b[0m     \u001b[39mreturn\u001b[39;00m model_class\u001b[39m.\u001b[39;49mfrom_pretrained(\n\u001b[1;32m    566\u001b[0m         pretrained_model_name_or_path, \u001b[39m*\u001b[39;49mmodel_args, config\u001b[39m=\u001b[39;49mconfig, \u001b[39m*\u001b[39;49m\u001b[39m*\u001b[39;49mhub_kwargs, \u001b[39m*\u001b[39;49m\u001b[39m*\u001b[39;49mkwargs\n\u001b[1;32m    567\u001b[0m     )\n\u001b[1;32m    568\u001b[0m \u001b[39mraise\u001b[39;00m \u001b[39mValueError\u001b[39;00m(\n\u001b[1;32m    569\u001b[0m     \u001b[39mf\u001b[39m\u001b[39m\"\u001b[39m\u001b[39mUnrecognized configuration class \u001b[39m\u001b[39m{\u001b[39;00mconfig\u001b[39m.\u001b[39m\u001b[39m__class__\u001b[39m\u001b[39m}\u001b[39;00m\u001b[39m for this kind of AutoModel: \u001b[39m\u001b[39m{\u001b[39;00m\u001b[39mcls\u001b[39m\u001b[39m.\u001b[39m\u001b[39m__name__\u001b[39m\u001b[39m}\u001b[39;00m\u001b[39m.\u001b[39m\u001b[39m\\n\u001b[39;00m\u001b[39m\"\u001b[39m\n\u001b[1;32m    570\u001b[0m     \u001b[39mf\u001b[39m\u001b[39m\"\u001b[39m\u001b[39mModel type should be one of \u001b[39m\u001b[39m{\u001b[39;00m\u001b[39m'\u001b[39m\u001b[39m, \u001b[39m\u001b[39m'\u001b[39m\u001b[39m.\u001b[39mjoin(c\u001b[39m.\u001b[39m\u001b[39m__name__\u001b[39m\u001b[39m \u001b[39m\u001b[39mfor\u001b[39;00m\u001b[39m \u001b[39mc\u001b[39m \u001b[39m\u001b[39min\u001b[39;00m\u001b[39m \u001b[39m\u001b[39mcls\u001b[39m\u001b[39m.\u001b[39m_model_mapping\u001b[39m.\u001b[39mkeys())\u001b[39m}\u001b[39;00m\u001b[39m.\u001b[39m\u001b[39m\"\u001b[39m\n\u001b[1;32m    571\u001b[0m )\n",
      "File \u001b[0;32m~/anaconda3/envs/auto_gptq_env/lib/python3.10/site-packages/transformers/modeling_utils.py:2599\u001b[0m, in \u001b[0;36mPreTrainedModel.from_pretrained\u001b[0;34m(cls, pretrained_model_name_or_path, config, cache_dir, ignore_mismatched_sizes, force_download, local_files_only, token, revision, use_safetensors, *model_args, **kwargs)\u001b[0m\n\u001b[1;32m   2593\u001b[0m     quantization_config, kwargs \u001b[39m=\u001b[39m BitsAndBytesConfig\u001b[39m.\u001b[39mfrom_dict(\n\u001b[1;32m   2594\u001b[0m         config_dict\u001b[39m=\u001b[39m{\u001b[39m\"\u001b[39m\u001b[39mload_in_8bit\u001b[39m\u001b[39m\"\u001b[39m: load_in_8bit, \u001b[39m\"\u001b[39m\u001b[39mload_in_4bit\u001b[39m\u001b[39m\"\u001b[39m: load_in_4bit},\n\u001b[1;32m   2595\u001b[0m         return_unused_kwargs\u001b[39m=\u001b[39m\u001b[39mTrue\u001b[39;00m,\n\u001b[1;32m   2596\u001b[0m         \u001b[39m*\u001b[39m\u001b[39m*\u001b[39mkwargs,\n\u001b[1;32m   2597\u001b[0m     )\n\u001b[1;32m   2598\u001b[0m \u001b[39melif\u001b[39;00m quantization_method_from_args \u001b[39m==\u001b[39m QuantizationMethod\u001b[39m.\u001b[39mBITS_AND_BYTES:\n\u001b[0;32m-> 2599\u001b[0m     load_in_8bit \u001b[39m=\u001b[39m quantization_config\u001b[39m.\u001b[39;49mload_in_8bit\n\u001b[1;32m   2600\u001b[0m     load_in_4bit \u001b[39m=\u001b[39m quantization_config\u001b[39m.\u001b[39mload_in_4bit\n\u001b[1;32m   2602\u001b[0m     quantization_config_kwargs \u001b[39m=\u001b[39m {\n\u001b[1;32m   2603\u001b[0m         k: v \u001b[39mfor\u001b[39;00m k, v \u001b[39min\u001b[39;00m kwargs\u001b[39m.\u001b[39mitems() \u001b[39mif\u001b[39;00m k \u001b[39min\u001b[39;00m inspect\u001b[39m.\u001b[39msignature(BitsAndBytesConfig)\u001b[39m.\u001b[39mparameters\n\u001b[1;32m   2604\u001b[0m     }\n",
      "\u001b[0;31mAttributeError\u001b[0m: 'tuple' object has no attribute 'load_in_8bit'"
     ]
    }
   ],
   "source": [
    "# config = PeftConfig.from_pretrained(adapter_path)\n",
    "# base_model_config = AutoConfig.from_pretrained(base_model_path)\n",
    "\n",
    "# torch_dtype = base_model_config.torch_dtype\n",
    "\n",
    "base_model = AutoModelForCausalLM.from_pretrained(\n",
    "    base_model_path,\n",
    "    load_in_8bit=True,\n",
    "    quantization_config=quantization_config,\n",
    "    # torch_dtype=torch_dtype,\n",
    "    device_map=\"auto\",\n",
    ")"
   ]
  },
  {
   "cell_type": "code",
   "execution_count": null,
   "metadata": {},
   "outputs": [],
   "source": [
    "model = PeftModel.from_pretrained(\n",
    "    base_model,\n",
    "    adapter_path,\n",
    "    adapter_name=\"adapter1_name\",\n",
    "    # torch_dtype=torch_dtype\n",
    ")"
   ]
  },
  {
   "cell_type": "code",
   "execution_count": null,
   "metadata": {},
   "outputs": [],
   "source": [
    "model.eval()"
   ]
  },
  {
   "cell_type": "code",
   "execution_count": null,
   "metadata": {},
   "outputs": [
    {
     "name": "stdout",
     "output_type": "stream",
     "text": [
      "adapter1_name\n"
     ]
    }
   ],
   "source": [
    "print(model.active_adapter)"
   ]
  },
  {
   "cell_type": "code",
   "execution_count": null,
   "metadata": {},
   "outputs": [],
   "source": [
    "# Выполнить предсказание на модели.\n",
    "\n",
    "# Посмотреть скрипты для загрузки модели и всех данных со своего google-drive.\n",
    "# Надо еще посомотереть как зделать chackpoint на свой google-drive. \n",
    "# Чтобы не терять данные модели.\n",
    "# Это в случае, если модель не влезал на мою видеокарту.  "
   ]
  },
  {
   "cell_type": "code",
   "execution_count": null,
   "metadata": {},
   "outputs": [],
   "source": [
    "system_prompt = \"Ты — Сайга, русскоязычный автоматический ассистент. Ты разговариваешь с людьми и помогаешь им.\""
   ]
  },
  {
   "cell_type": "code",
   "execution_count": null,
   "metadata": {},
   "outputs": [],
   "source": [
    "user_message =  \"Как приготовить борщ?\""
   ]
  },
  {
   "cell_type": "code",
   "execution_count": null,
   "metadata": {},
   "outputs": [],
   "source": [
    "s = f\"<s>system\\n{system_prompt}</s>\\n\" + \\\n",
    "    f\"<s>user\\n{user_message}</s>\\n\" + \\\n",
    "    f\"<s>bot\\n\""
   ]
  },
  {
   "cell_type": "code",
   "execution_count": null,
   "metadata": {},
   "outputs": [],
   "source": [
    "data = tokenizer(s,return_tensors=\"pt\")"
   ]
  },
  {
   "cell_type": "code",
   "execution_count": null,
   "metadata": {},
   "outputs": [],
   "source": [
    "data = {k: v.to(device) for k, v in data.items()}"
   ]
  },
  {
   "cell_type": "code",
   "execution_count": null,
   "metadata": {},
   "outputs": [],
   "source": [
    "# Настроить параметры генерации текста.\n",
    "output_ids = model.generate(**data, do_sample=True, temperature=0.9, max_new_tokens=512, top_p=0.95,\n",
    "                             top_k=5, repetition_penalty=1.03, no_repeat_ngram_size=2, generation_config=generation_config)"
   ]
  },
  {
   "cell_type": "code",
   "execution_count": null,
   "metadata": {},
   "outputs": [
    {
     "data": {
      "text/plain": [
       "'Борщ — национальный украинский суп, который можно приготовлять различными способами в зависимости от местных традиций или вкусовых предпочтений. Вот несколько популярных рецептов:\\n\\n1. Основной реcipe: нарежьте картофель, морковь, лук, чеснок и кольца помидоров, затем обжарь их на оливковом масле. Добавьte воду, уксус и бульон, и варите в течение 20-30 минут до готовности. В конце добавляйте сливочное масло, зеленый луковичий перец и зелени (укроп или петрушку), и подавай.\\n2. Украинская борщу: используй для начинки крутокоренники, курицу, говядину, конину или баранины, которые нужно нашинковать, обжарить на сковороде и дополнительно обсушить. Затем, следует применять основной прием, но с использованием мяса вместо картин.  Это более сложный и насыщенный реципи.  \\n3. Борщу из грибов: сначала обжимай глубокий миска грыбной массы, добиваясь ее настойчивой текстуры. Потом следуют основные ингредиенты, а гренки можно додавать в конце, чтобы не испортить текст. Этот вариант является более легким и менее пикантным.   \\n4. Соргоборщ: в качестве основы используется сорг, которое можно купить в магазинах или подготавить самостоятельно, смешав кукурузное зерно с мукой. Оно дает борщину более сладкую, менестреличную текстовую структуру, что делает ей более мягкой и нежной.    \\n5. Супер-легкая борш: для этого варенье используют карта'"
      ]
     },
     "execution_count": 82,
     "metadata": {},
     "output_type": "execute_result"
    }
   ],
   "source": [
    "# Переписать.\n",
    "outputs = []\n",
    "for sample_output_ids, sample_input_ids in zip(output_ids, data[\"input_ids\"]):\n",
    "    sample_output_ids = sample_output_ids[len(sample_input_ids):]\n",
    "    sample_output = tokenizer.decode(sample_output_ids, skip_special_tokens=True)\n",
    "    sample_output = sample_output.replace(\"</s>\", \"\").strip()\n",
    "    outputs.append(sample_output)\n",
    "outputs[0]"
   ]
  },
  {
   "cell_type": "markdown",
   "metadata": {},
   "source": [
    "Борщ — национальный украинский суп, который можно приготовлять различными способами в зависимости от местных традиций или вкусовых предпочтений. Вот несколько популярных рецептов:\\n\\n1. Основной реcipe: нарежьте картофель, морковь, лук, чеснок и кольца помидоров, затем обжарь их на оливковом масле. Добавьte воду, уксус и бульон, и варите в течение 20-30 минут до готовности. В конце добавляйте сливочное масло, зеленый луковичий перец и зелени (укроп или петрушку), и подавай.\\n2. Украинская борщу: используй для начинки крутокоренники, курицу, говядину, конину или баранины, которые нужно нашинковать, обжарить на сковороде и дополнительно обсушить. Затем, следует применять основной прием, но с использованием мяса вместо картин.  Это более сложный и насыщенный реципи.  \\n3. Борщу из грибов: сначала обжимай глубокий миска грыбной массы, добиваясь ее настойчивой текстуры. Потом следуют основные ингредиенты, а гренки можно додавать в конце, чтобы не испортить текст. Этот вариант является более легким и менее пикантным.   \\n4. Соргоборщ: в качестве основы используется сорг, которое можно купить в магазинах или подготавить самостоятельно, смешав кукурузное зерно с мукой. Оно дает борщину более сладкую, менестреличную текстовую структуру, что делает ей более мягкой и нежной.    \\n5. Супер-легкая борш: для этого варенье используют карта"
   ]
  }
 ],
 "metadata": {
  "kernelspec": {
   "display_name": "auto_gptq_env",
   "language": "python",
   "name": "python3"
  },
  "language_info": {
   "codemirror_mode": {
    "name": "ipython",
    "version": 3
   },
   "file_extension": ".py",
   "mimetype": "text/x-python",
   "name": "python",
   "nbconvert_exporter": "python",
   "pygments_lexer": "ipython3",
   "version": "3.10.12"
  }
 },
 "nbformat": 4,
 "nbformat_minor": 2
}
