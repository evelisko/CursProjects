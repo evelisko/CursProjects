{
 "cells": [
  {
   "cell_type": "code",
   "execution_count": 31,
   "metadata": {},
   "outputs": [],
   "source": [
    "import torch\n",
    "from utils.model import Model, Conversation\n",
    "from transformers import AutoTokenizer, AutoModelForCausalLM\n",
    "from transformers import  BitsAndBytesConfig, GenerationConfig, AutoTokenizer"
   ]
  },
  {
   "cell_type": "code",
   "execution_count": 32,
   "metadata": {},
   "outputs": [],
   "source": [
    "model_name = \"lmsys/vicuna-7b-v1.5\""
   ]
  },
  {
   "cell_type": "code",
   "execution_count": 33,
   "metadata": {},
   "outputs": [],
   "source": [
    "MODEL_NAME = \"IlyaGusev/saiga2_7b_lora\""
   ]
  },
  {
   "cell_type": "code",
   "execution_count": null,
   "metadata": {},
   "outputs": [],
   "source": [
    "tokenizer = AutoTokenizer.from_pretrained(MODEL_NAME, use_fast=False)\n",
    "# generation_config = GenerationConfig.from_pretrained(MODEL_NAME)\n",
    "# print(generation_config)"
   ]
  },
  {
   "cell_type": "code",
   "execution_count": null,
   "metadata": {},
   "outputs": [],
   "source": [
    "model = Model() \n",
    "model.load(MODEL_NAME, is_lora=True, use_4bit=True) "
   ]
  },
  {
   "cell_type": "code",
   "execution_count": null,
   "metadata": {},
   "outputs": [],
   "source": [
    "template_path = '/home/dshome/Projects/rulm/self_instruct/internal_prompts/saiga_v2.json'"
   ]
  },
  {
   "cell_type": "code",
   "execution_count": null,
   "metadata": {},
   "outputs": [],
   "source": [
    "system_prompt = \"Ты — Сайга, русскоязычный автоматический ассистент. Ты разговариваешь с людьми и помогаешь им.\""
   ]
  },
  {
   "cell_type": "code",
   "execution_count": null,
   "metadata": {},
   "outputs": [],
   "source": [
    "conversation = Conversation.from_template(template_path) # Я же как-то без него обходился? "
   ]
  },
  {
   "cell_type": "code",
   "execution_count": null,
   "metadata": {},
   "outputs": [],
   "source": [
    "user_message =  \"Кто такой Пушкин?\""
   ]
  },
  {
   "cell_type": "code",
   "execution_count": null,
   "metadata": {},
   "outputs": [],
   "source": [
    "s = f\"<s>system\\n{system_prompt}</s>\\n\" + \\\n",
    "    f\"<s>user\\n{user_message}</s>\\n\" + \\\n",
    "    f\"<s>bot\\n\""
   ]
  },
  {
   "cell_type": "code",
   "execution_count": 13,
   "metadata": {},
   "outputs": [],
   "source": [
    "# conversation.add_user_message(user_message)\n",
    "# prompt = conversation.get_prompt(tokenizer)"
   ]
  },
  {
   "cell_type": "code",
   "execution_count": null,
   "metadata": {},
   "outputs": [
    {
     "data": {
      "text/plain": [
       "'<s>system\\nТы — Сайга, русскоязычный автоматический ассистент. Ты разговариваешь с людьми и помогаешь им.</s>\\n<s>user\\nКто такой Пушкин?</s>\\n<s>bot\\n'"
      ]
     },
     "execution_count": 11,
     "metadata": {},
     "output_type": "execute_result"
    }
   ],
   "source": [
    "s"
   ]
  },
  {
   "cell_type": "code",
   "execution_count": null,
   "metadata": {},
   "outputs": [],
   "source": [
    "data = tokenizer(s,return_tensors=\"pt\")"
   ]
  },
  {
   "cell_type": "code",
   "execution_count": null,
   "metadata": {},
   "outputs": [
    {
     "data": {
      "text/plain": [
       "{'input_ids': tensor([[    1,     1,  1788,    13, 30041, 29982,   813,  5212, 29977,  1779,\n",
       "         29892, 14251,  1130, 29970,  4536, 19705, 10279, 24522,  2542,  1097,\n",
       "          6988,   464,  3648, 29889,  1703, 29982,  3212, 29969,  1263,   641,\n",
       "           846, 29919, 25366,   531,  6331, 10826,   989,   606, 14752,  1779,\n",
       "         29919, 25366,  8933, 29889,     2, 29871,    13,     1,  1404,    13,\n",
       "         30014,   702, 29003, 16569, 15324, 29921, 29973,     2, 29871,    13,\n",
       "             1,  9225,    13]]), 'attention_mask': tensor([[1, 1, 1, 1, 1, 1, 1, 1, 1, 1, 1, 1, 1, 1, 1, 1, 1, 1, 1, 1, 1, 1, 1, 1,\n",
       "         1, 1, 1, 1, 1, 1, 1, 1, 1, 1, 1, 1, 1, 1, 1, 1, 1, 1, 1, 1, 1, 1, 1, 1,\n",
       "         1, 1, 1, 1, 1, 1, 1, 1, 1, 1, 1, 1, 1, 1, 1]])}"
      ]
     },
     "execution_count": 13,
     "metadata": {},
     "output_type": "execute_result"
    }
   ],
   "source": [
    "model.tokenizer(s,return_tensors=\"pt\")"
   ]
  },
  {
   "cell_type": "code",
   "execution_count": null,
   "metadata": {},
   "outputs": [
    {
     "data": {
      "text/plain": [
       "'Александр Сергеевич Пушкин - великий русский поэт, писатель, драматург, критик, переводчик и общественный деятель. Он родился в Москве в 1799 году и умер там же в 1837 году. В его творчестве соединились романтизм, классицизм и реалистические черты, что делает его произведения особенно интересными для изучения. Его главные работы: \"Евгений Онегин\", \"Борис Годунов\" (драмы), \"Капитанская дочка\". Александр Пушкин считается одним из основателей современного российского литературы и является символом национальной культуры России.'"
      ]
     },
     "execution_count": 14,
     "metadata": {},
     "output_type": "execute_result"
    }
   ],
   "source": [
    "model.generate(s)"
   ]
  },
  {
   "cell_type": "code",
   "execution_count": null,
   "metadata": {},
   "outputs": [],
   "source": [
    "model.model.save_pretrained('models')"
   ]
  },
  {
   "cell_type": "code",
   "execution_count": null,
   "metadata": {},
   "outputs": [
    {
     "data": {
      "text/plain": [
       "('models/tokenizer_config.json',\n",
       " 'models/special_tokens_map.json',\n",
       " 'models/tokenizer.model',\n",
       " 'models/added_tokens.json')"
      ]
     },
     "execution_count": 17,
     "metadata": {},
     "output_type": "execute_result"
    }
   ],
   "source": [
    "model.tokenizer.save_pretrained('models')"
   ]
  },
  {
   "cell_type": "code",
   "execution_count": null,
   "metadata": {},
   "outputs": [],
   "source": [
    "# Загрузка модели из конфигов.\n",
    "# Загрузка модели выполняется также как и загрузка из HF.\n",
    "\n",
    "# В папке хранится только адаптер. сама модель расположена в другом месте. \n",
    "\n",
    "# Загрузка базовой модели, Загрузка "
   ]
  },
  {
   "cell_type": "code",
   "execution_count": null,
   "metadata": {},
   "outputs": [],
   "source": [
    "# Датасет для модели.\n",
    "# Продумать, как его загружать.\n",
    "# Подготовить скрипты для дообучения модели.\n",
    "# взять адаптер сайги и дообучить его под задачу рецептов."
   ]
  }
 ],
 "metadata": {
  "kernelspec": {
   "display_name": "auto_gptq_env",
   "language": "python",
   "name": "python3"
  },
  "language_info": {
   "codemirror_mode": {
    "name": "ipython",
    "version": 3
   },
   "file_extension": ".py",
   "mimetype": "text/x-python",
   "name": "python",
   "nbconvert_exporter": "python",
   "pygments_lexer": "ipython3",
   "version": "3.10.12"
  }
 },
 "nbformat": 4,
 "nbformat_minor": 2
}
