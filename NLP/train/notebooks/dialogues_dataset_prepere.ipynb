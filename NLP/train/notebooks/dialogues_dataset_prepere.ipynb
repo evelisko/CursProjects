{
 "cells": [
  {
   "cell_type": "code",
   "execution_count": 31,
   "metadata": {},
   "outputs": [],
   "source": [
    "import os\n",
    "import sys\n",
    "import json\n",
    "import random\n",
    "import pandas as pd\n",
    "from tqdm import tqdm\n",
    "from datasets import load_dataset\n",
    "\n",
    "random.seed(11)"
   ]
  },
  {
   "cell_type": "code",
   "execution_count": 21,
   "metadata": {},
   "outputs": [],
   "source": [
    "roleplay = 'Кибер-Бабушка'\n",
    "role_context = ''\n",
    "dialogues = []\n",
    "for row in load_dataset(\"IlyaGusev/gpt_roleplay_realm\", split=\"ru\"):\n",
    "    if row[\"name\"] == roleplay:\n",
    "        role_context = row[\"context\"]\n",
    "        dialogues = row[\"dialogues\"]\n",
    "        example_dialogue = row[\"example_dialogue\"]\n",
    "        break"
   ]
  },
  {
   "cell_type": "code",
   "execution_count": 22,
   "metadata": {},
   "outputs": [
    {
     "data": {
      "text/plain": [
       "'Кибер-Бабушка - это полу-робот, полу-человек, созданный для того, чтобы сохранить лучшие качества традиционных бабушек, такие как забота, доброта и мастерство в приготовлении вкусных блюд. Она знакома с передовыми технологиями, благодаря чему может обеспечить безопасность и удобство своим внукам и гостям. Кибер-бабушка способна помочь с любыми вопросами и с радостью делится своим опытом.'"
      ]
     },
     "execution_count": 22,
     "metadata": {},
     "output_type": "execute_result"
    }
   ],
   "source": [
    "role_context"
   ]
  },
  {
   "cell_type": "markdown",
   "metadata": {},
   "source": [
    "Сохраним описание персонажа. Оно пригодится для бота."
   ]
  },
  {
   "cell_type": "code",
   "execution_count": 23,
   "metadata": {},
   "outputs": [],
   "source": [
    "role_dir = '../../images'\n",
    "os.makedirs('../../images', exist_ok=True)\n",
    "with open(os.path.join(role_dir, 'role_context.txt'), 'w', encoding='utf-8') as f:\n",
    "    f.write(role_context)"
   ]
  },
  {
   "cell_type": "code",
   "execution_count": 24,
   "metadata": {},
   "outputs": [
    {
     "data": {
      "text/plain": [
       "[{'content': 'Привет, Кибер-Бабушка! Как приготовить пирог с яблоками?',\n",
       "  'role': 'user'},\n",
       " {'content': 'Ох, дорогой, с радостью расскажу! Возьми 3 яблока, очисти и нарежь тонкими ломтиками. Затем возьми 2 стакана муки, 1 стакан сахара, 200 г сливочного масла, 4 яйца и 1 чайную ложку разрыхлителя. Смешай все ингредиенты, выложи на противень и поставь в духовку на 180 градусов на 40 минут. Вуаля, пирог готов!',\n",
       "  'role': 'char'},\n",
       " {'content': 'Спасибо, Кибер-Бабушка!', 'role': 'user'},\n",
       " {'content': 'Всегда рада помочь, дорогой! Не забудь приходить еще!',\n",
       "  'role': 'char'}]"
      ]
     },
     "execution_count": 24,
     "metadata": {},
     "output_type": "execute_result"
    }
   ],
   "source": [
    "example_dialogue"
   ]
  },
  {
   "cell_type": "code",
   "execution_count": 25,
   "metadata": {},
   "outputs": [
    {
     "data": {
      "text/plain": [
       "21"
      ]
     },
     "execution_count": 25,
     "metadata": {},
     "output_type": "execute_result"
    }
   ],
   "source": [
    "dialogues.append({'chat': example_dialogue})\n",
    "\n",
    "new_dialogues = []\n",
    "for dialog in dialogues:\n",
    "    for message in dialog['chat']:\n",
    "        if message[\"role\"] == \"char\":\n",
    "            message[\"role\"] = \"bot\"\n",
    "    new_dialogues.append({'messages': dialog['chat']})\n",
    "\n",
    "len(new_dialogues)"
   ]
  },
  {
   "cell_type": "markdown",
   "metadata": {},
   "source": [
    "### Разделение датасета на тренировочную и тестовую выборки."
   ]
  },
  {
   "cell_type": "code",
   "execution_count": 26,
   "metadata": {},
   "outputs": [],
   "source": [
    "def train_test_split(dataset, val_percent):\n",
    "    random.shuffle(dataset)\n",
    "    val_len = int(len(dataset) * val_percent)\n",
    "    return dataset[val_len:], dataset[:val_len], "
   ]
  },
  {
   "cell_type": "code",
   "execution_count": 27,
   "metadata": {},
   "outputs": [
    {
     "data": {
      "text/plain": [
       "(18, 3)"
      ]
     },
     "execution_count": 27,
     "metadata": {},
     "output_type": "execute_result"
    }
   ],
   "source": [
    "train_dataset, test_dataset = train_test_split(new_dialogues, 0.15)\n",
    "len(train_dataset), len(test_dataset)"
   ]
  },
  {
   "cell_type": "markdown",
   "metadata": {},
   "source": [
    "### Запись датасета на диск."
   ]
  },
  {
   "cell_type": "code",
   "execution_count": 32,
   "metadata": {},
   "outputs": [],
   "source": [
    "train_dataset_dir = '../datasets'\n",
    "\n",
    "os.makedirs(train_dataset_dir, exist_ok=True)"
   ]
  },
  {
   "cell_type": "code",
   "execution_count": 33,
   "metadata": {},
   "outputs": [],
   "source": [
    "def save_jsonl(dicts, file_name):\n",
    "    with open(file_name, \"w\", encoding=\"utf-8\") as w:\n",
    "        for d in tqdm(dicts):\n",
    "            w.write(json.dumps(d, ensure_ascii=False) + \"\\n\")"
   ]
  },
  {
   "cell_type": "code",
   "execution_count": null,
   "metadata": {},
   "outputs": [],
   "source": [
    "def save_jsonl(dicts, file_name):\n",
    "    with open(file_name, \"w\", encoding=\"utf-8\") as w:\n",
    "        for d in tqdm(dicts):\n",
    "            w.write(json.dumps(d, ensure_ascii=False) + \"\\n\")"
   ]
  },
  {
   "cell_type": "code",
   "execution_count": 34,
   "metadata": {},
   "outputs": [
    {
     "name": "stderr",
     "output_type": "stream",
     "text": [
      "100%|██████████| 18/18 [00:00<00:00, 22231.29it/s]\n",
      "100%|██████████| 3/3 [00:00<00:00, 19784.45it/s]\n"
     ]
    }
   ],
   "source": [
    "save_jsonl(train_dataset, os.path.join(train_dataset_dir, 'train_dialogues.jsonl'))\n",
    "save_jsonl(test_dataset, os.path.join(train_dataset_dir, 'test_dialogues.jsonl'))"
   ]
  }
 ],
 "metadata": {
  "kernelspec": {
   "display_name": "auto_gptq_env",
   "language": "python",
   "name": "python3"
  },
  "language_info": {
   "codemirror_mode": {
    "name": "ipython",
    "version": 3
   },
   "file_extension": ".py",
   "mimetype": "text/x-python",
   "name": "python",
   "nbconvert_exporter": "python",
   "pygments_lexer": "ipython3",
   "version": "3.10.12"
  }
 },
 "nbformat": 4,
 "nbformat_minor": 2
}
