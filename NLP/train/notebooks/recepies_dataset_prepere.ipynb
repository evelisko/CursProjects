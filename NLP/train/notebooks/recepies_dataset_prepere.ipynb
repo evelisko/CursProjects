{
 "cells": [
  {
   "cell_type": "code",
   "execution_count": 7,
   "metadata": {},
   "outputs": [],
   "source": [
    "import os\n",
    "import sys\n",
    "import json\n",
    "import random\n",
    "import pandas as pd\n",
    "from tqdm import tqdm\n",
    "from typing import List\n",
    "\n",
    "random.seed(11)"
   ]
  },
  {
   "cell_type": "markdown",
   "metadata": {},
   "source": [
    "Загрузим данные с https://www.kaggle.com/coolonce/recipes-and-interpretation-dim"
   ]
  },
  {
   "cell_type": "code",
   "execution_count": 2,
   "metadata": {},
   "outputs": [],
   "source": [
    "df = pd.read_csv(\"../all_recepies_inter.csv\", sep=\"\\t\",\n",
    "                  usecols=[\"name\", \"Инструкции\"]).rename(\n",
    "                      columns={\"Инструкции\": \"instructions\"})"
   ]
  },
  {
   "cell_type": "code",
   "execution_count": 3,
   "metadata": {},
   "outputs": [
    {
     "data": {
      "text/html": [
       "<div>\n",
       "<style scoped>\n",
       "    .dataframe tbody tr th:only-of-type {\n",
       "        vertical-align: middle;\n",
       "    }\n",
       "\n",
       "    .dataframe tbody tr th {\n",
       "        vertical-align: top;\n",
       "    }\n",
       "\n",
       "    .dataframe thead th {\n",
       "        text-align: right;\n",
       "    }\n",
       "</style>\n",
       "<table border=\"1\" class=\"dataframe\">\n",
       "  <thead>\n",
       "    <tr style=\"text-align: right;\">\n",
       "      <th></th>\n",
       "      <th>name</th>\n",
       "      <th>instructions</th>\n",
       "    </tr>\n",
       "  </thead>\n",
       "  <tbody>\n",
       "    <tr>\n",
       "      <th>0</th>\n",
       "      <td>рассольник классический с перловкой и солеными...</td>\n",
       "      <td>Подготовить указанные ингредиенты для приготов...</td>\n",
       "    </tr>\n",
       "    <tr>\n",
       "      <th>1</th>\n",
       "      <td>Суп пюре из белокочаной капусты</td>\n",
       "      <td>Необходимые ингредиенты\\r\\nНарезаем лук, морко...</td>\n",
       "    </tr>\n",
       "    <tr>\n",
       "      <th>2</th>\n",
       "      <td>Постные щи из квашеной капусты</td>\n",
       "      <td>Честно признаюсь, у меня не было репы на момен...</td>\n",
       "    </tr>\n",
       "    <tr>\n",
       "      <th>3</th>\n",
       "      <td>Тюря- простой суп быстро и вкусно</td>\n",
       "      <td>\\r\\nНачинаем мы приготовление тюри с того, что...</td>\n",
       "    </tr>\n",
       "    <tr>\n",
       "      <th>4</th>\n",
       "      <td>Фасолевый суп из красной фасоли</td>\n",
       "      <td>Подготовить ингредиенты. Для приготовления суп...</td>\n",
       "    </tr>\n",
       "  </tbody>\n",
       "</table>\n",
       "</div>"
      ],
      "text/plain": [
       "                                                name  \\\n",
       "0  рассольник классический с перловкой и солеными...   \n",
       "1                    Суп пюре из белокочаной капусты   \n",
       "2                     Постные щи из квашеной капусты   \n",
       "3                  Тюря- простой суп быстро и вкусно   \n",
       "4                    Фасолевый суп из красной фасоли   \n",
       "\n",
       "                                        instructions  \n",
       "0  Подготовить указанные ингредиенты для приготов...  \n",
       "1  Необходимые ингредиенты\\r\\nНарезаем лук, морко...  \n",
       "2  Честно признаюсь, у меня не было репы на момен...  \n",
       "3  \\r\\nНачинаем мы приготовление тюри с того, что...  \n",
       "4  Подготовить ингредиенты. Для приготовления суп...  "
      ]
     },
     "execution_count": 3,
     "metadata": {},
     "output_type": "execute_result"
    }
   ],
   "source": [
    "df.head()"
   ]
  },
  {
   "attachments": {},
   "cell_type": "markdown",
   "metadata": {},
   "source": [
    "## Формируем датасет для обучения модели."
   ]
  },
  {
   "cell_type": "code",
   "execution_count": 4,
   "metadata": {},
   "outputs": [
    {
     "name": "stderr",
     "output_type": "stream",
     "text": [
      "  0%|          | 0/27884 [00:00<?, ?it/s]"
     ]
    },
    {
     "name": "stderr",
     "output_type": "stream",
     "text": [
      "100%|██████████| 27884/27884 [00:01<00:00, 23418.79it/s]\n"
     ]
    }
   ],
   "source": [
    "dialoges = []\n",
    "for i in tqdm(range(len(df))):\n",
    "    dialog_format = {\n",
    "    \"messages\": [\n",
    "    {\"role\": \"user\", \"content\": df.iloc[i]['name']},\n",
    "    {\"role\": \"bot\", \"content\": df.iloc[i]['instructions']}\n",
    "    ],\n",
    "     \"source\": \"alpaca\"\n",
    "    }\n",
    "    dialoges.append(dialog_format)"
   ]
  },
  {
   "cell_type": "markdown",
   "metadata": {},
   "source": [
    "Чтобы уменьшить время обучения немного возьмем только первые 10000 рецептов."
   ]
  },
  {
   "cell_type": "code",
   "execution_count": 8,
   "metadata": {},
   "outputs": [],
   "source": [
    "random.shuffle(dialoges)\n",
    "dialoges = dialoges[:10000]"
   ]
  },
  {
   "cell_type": "markdown",
   "metadata": {},
   "source": [
    "### Разделение датасета на тренировочную и тестовую выборки."
   ]
  },
  {
   "cell_type": "code",
   "execution_count": 9,
   "metadata": {},
   "outputs": [],
   "source": [
    "def train_test_split(dataset, val_percent):\n",
    "    random.shuffle(dataset)\n",
    "    val_len = int(len(dataset) * val_percent)\n",
    "    return dataset[val_len:], dataset[:val_len], "
   ]
  },
  {
   "cell_type": "code",
   "execution_count": 10,
   "metadata": {},
   "outputs": [
    {
     "data": {
      "text/plain": [
       "(8500, 1500)"
      ]
     },
     "execution_count": 10,
     "metadata": {},
     "output_type": "execute_result"
    }
   ],
   "source": [
    "train_dataset, test_dataset = train_test_split(dialoges, 0.15)\n",
    "len(train_dataset), len(test_dataset)"
   ]
  },
  {
   "cell_type": "markdown",
   "metadata": {},
   "source": [
    "### Запись датасета на диск."
   ]
  },
  {
   "cell_type": "code",
   "execution_count": 14,
   "metadata": {},
   "outputs": [],
   "source": [
    "train_dataset_dir = '../datasets'\n",
    "os.makedirs(train_dataset_dir, exist_ok=True)"
   ]
  },
  {
   "cell_type": "code",
   "execution_count": 15,
   "metadata": {},
   "outputs": [],
   "source": [
    "def save_jsonl(dicts, file_name):\n",
    "    with open(file_name, \"w\", encoding=\"utf-8\") as w:\n",
    "        for d in tqdm(dicts):\n",
    "            w.write(json.dumps(d, ensure_ascii=False) + \"\\n\")"
   ]
  },
  {
   "cell_type": "code",
   "execution_count": 16,
   "metadata": {},
   "outputs": [
    {
     "name": "stderr",
     "output_type": "stream",
     "text": [
      "100%|██████████| 8500/8500 [00:00<00:00, 76017.79it/s]\n",
      "100%|██████████| 1500/1500 [00:00<00:00, 61018.71it/s]\n"
     ]
    }
   ],
   "source": [
    "save_jsonl(train_dataset, os.path.join(train_dataset_dir, 'train_recepies.jsonl'))\n",
    "save_jsonl(test_dataset, os.path.join(train_dataset_dir, 'test_recepies.jsonl'))"
   ]
  }
 ],
 "metadata": {
  "kernelspec": {
   "display_name": "auto_gptq_env",
   "language": "python",
   "name": "python3"
  },
  "language_info": {
   "codemirror_mode": {
    "name": "ipython",
    "version": 3
   },
   "file_extension": ".py",
   "mimetype": "text/x-python",
   "name": "python",
   "nbconvert_exporter": "python",
   "pygments_lexer": "ipython3",
   "version": "3.10.12"
  }
 },
 "nbformat": 4,
 "nbformat_minor": 2
}
