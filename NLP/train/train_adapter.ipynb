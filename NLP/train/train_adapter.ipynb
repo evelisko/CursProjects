{
 "cells": [
  {
   "cell_type": "code",
   "execution_count": null,
   "metadata": {
    "tags": []
   },
   "outputs": [],
   "source": [
    "import os\n",
    "import gc\n",
    "import shutil\n",
    "import torch\n",
    "from typing import List\n",
    "from transformers import AutoTokenizer, GenerationConfig, AutoModelForCausalLM, AutoConfig\n",
    "from peft import PeftConfig, PeftModel\n",
    "from train import train"
   ]
  },
  {
   "cell_type": "markdown",
   "metadata": {},
   "source": [
    "### Загрузка и сохранение на диск базовой модели."
   ]
  },
  {
   "cell_type": "code",
   "execution_count": 2,
   "metadata": {
    "jupyter": {
     "source_hidden": true
    },
    "tags": []
   },
   "outputs": [],
   "source": [
    "adapter_path = 'models/adapter'\n",
    "base_adapter_name = 'IlyaGusev/saiga2_7b_lora'\n",
    "\n",
    "os.makedirs('models', exist_ok=True)\n",
    "os.makedirs(adapter_path, exist_ok=True)"
   ]
  },
  {
   "cell_type": "code",
   "execution_count": null,
   "metadata": {
    "jupyter": {
     "source_hidden": true
    },
    "tags": []
   },
   "outputs": [],
   "source": [
    "tokenizer = AutoTokenizer.from_pretrained(base_adapter_name, use_fast=False, padding_side='left')\n",
    "generation_config = GenerationConfig.from_pretrained(base_adapter_name, do_sample=True)"
   ]
  },
  {
   "cell_type": "code",
   "execution_count": 4,
   "metadata": {
    "jupyter": {
     "source_hidden": true
    },
    "tags": []
   },
   "outputs": [],
   "source": [
    "config = PeftConfig.from_pretrained(base_adapter_name)"
   ]
  },
  {
   "cell_type": "code",
   "execution_count": 5,
   "metadata": {
    "jupyter": {
     "source_hidden": true
    },
    "tags": []
   },
   "outputs": [
    {
     "name": "stderr",
     "output_type": "stream",
     "text": [
      "Loading checkpoint shards: 100%|██████████| 2/2 [00:51<00:00, 25.68s/it]\n"
     ]
    }
   ],
   "source": [
    "base_model_name = config.base_model_name_or_path\n",
    "base_model_config = AutoConfig.from_pretrained(base_model_name)\n",
    "\n",
    "model = AutoModelForCausalLM.from_pretrained(\n",
    "    base_model_name,\n",
    "    torch_dtype=base_model_config.torch_dtype,\n",
    "    # load_in_8bit=True,\n",
    "    # device_map=\"auto\",\n",
    ")"
   ]
  },
  {
   "cell_type": "code",
   "execution_count": 6,
   "metadata": {
    "tags": []
   },
   "outputs": [],
   "source": [
    "model = PeftModel.from_pretrained(model, base_adapter_name)"
   ]
  },
  {
   "cell_type": "code",
   "execution_count": null,
   "metadata": {
    "collapsed": true,
    "jupyter": {
     "outputs_hidden": true
    },
    "tags": []
   },
   "outputs": [],
   "source": [
    "model.eval()"
   ]
  },
  {
   "cell_type": "code",
   "execution_count": 12,
   "metadata": {
    "tags": []
   },
   "outputs": [],
   "source": [
    "model.save_pretrained(adapter_path)\n",
    "tokenizer.save_pretrained(adapter_path)\n",
    "generation_config.save_pretrained(adapter_path)\n",
    "\n",
    "model = None\n",
    "gc.collect()\n",
    "torch.cuda.empty_cache()"
   ]
  },
  {
   "cell_type": "markdown",
   "metadata": {},
   "source": [
    "### Тренировка модели вопросах и ответах."
   ]
  },
  {
   "cell_type": "code",
   "execution_count": 2,
   "metadata": {
    "jupyter": {
     "source_hidden": true
    },
    "tags": []
   },
   "outputs": [],
   "source": [
    "output_path = './models/recipes_model'\n",
    "base_adapter_path = \"./models/adapter\"\n",
    "os.makedirs(output_path, exist_ok=True)\n",
    "config = PeftConfig.from_pretrained(base_adapter_path)\n",
    "base_model_name = config.base_model_name_or_path"
   ]
  },
  {
   "cell_type": "code",
   "execution_count": null,
   "metadata": {
    "collapsed": true,
    "jupyter": {
     "outputs_hidden": true,
     "source_hidden": true
    },
    "scrolled": true,
    "tags": []
   },
   "outputs": [
    {
     "name": "stdout",
     "output_type": "stream",
     "text": [
      "deepspeed:  None\n",
      "models/llama2-7b\n"
     ]
    },
    {
     "name": "stdout",
     "output_type": "stream",
     "text": [
      "Vocab size:  32000\n",
      "PAD:  0 <unk>\n",
      "BOS:  1 <s>\n",
      "EOS:  2 </s>\n",
      "UNK:  0 <unk>\n",
      "SEP:  None None\n"
     ]
    },
    {
     "name": "stderr",
     "output_type": "stream",
     "text": [
      "100%|██████████| 8500/8500 [00:21<00:00, 394.09it/s]\n",
      "100%|██████████| 1500/1500 [00:03<00:00, 399.58it/s]\n"
     ]
    },
    {
     "name": "stdout",
     "output_type": "stream",
     "text": [
      "Load model\n",
      "use 8 bit: True\n",
      "use 4 bit: False\n"
     ]
    },
    {
     "name": "stderr",
     "output_type": "stream",
     "text": [
      "Loading checkpoint shards: 100%|██████████| 2/2 [00:19<00:00, 10.00s/it]\n"
     ]
    },
    {
     "name": "stdout",
     "output_type": "stream",
     "text": [
      "Load Adapter\n"
     ]
    },
    {
     "name": "stderr",
     "output_type": "stream",
     "text": [
      "`use_cache=True` is incompatible with gradient checkpointing. Setting `use_cache=False`...\n"
     ]
    },
    {
     "name": "stdout",
     "output_type": "stream",
     "text": [
      "training run.\n"
     ]
    },
    {
     "data": {
      "text/html": [
       "\n",
       "    <div>\n",
       "      \n",
       "      <progress value='19' max='48' style='width:300px; height:20px; vertical-align: middle;'></progress>\n",
       "      [19/48 1:12:41 < 2:04:00, 0.00 it/s, Epoch 1.08/3]\n",
       "    </div>\n",
       "    <table border=\"1\" class=\"dataframe\">\n",
       "  <thead>\n",
       " <tr style=\"text-align: left;\">\n",
       "      <th>Step</th>\n",
       "      <th>Training Loss</th>\n",
       "      <th>Validation Loss</th>\n",
       "    </tr>\n",
       "  </thead>\n",
       "  <tbody>\n",
       "    <tr>\n",
       "      <td>5</td>\n",
       "      <td>1.752100</td>\n",
       "      <td>1.680979</td>\n",
       "    </tr>\n",
       "    <tr>\n",
       "      <td>10</td>\n",
       "      <td>1.597800</td>\n",
       "      <td>1.580341</td>\n",
       "    </tr>\n",
       "    <tr>\n",
       "      <td>15</td>\n",
       "      <td>1.534800</td>\n",
       "      <td>1.509741</td>\n",
       "    </tr>\n",
       "  </tbody>\n",
       "</table><p>"
      ],
      "text/plain": [
       "<IPython.core.display.HTML object>"
      ]
     },
     "metadata": {},
     "output_type": "display_data"
    }
   ],
   "source": [
    "train(config_file='config/train_recipes_config.json',\n",
    "     train_file='datasets/train_recipes.jsonl',\n",
    "     val_file='datasets/test_recipes.jsonl',\n",
    "     model_path=base_model_name,\n",
    "     adapter_path=base_adapter_path, \n",
    "     report_to='none',\n",
    "     output_dir=output_path\n",
    "     )"
   ]
  },
  {
   "cell_type": "markdown",
   "metadata": {},
   "source": [
    "### Тренировка модели на диалогах с персонажем.\n",
    "\n",
    "Происходит дообучение адаптера из предыдущего этапа."
   ]
  },
  {
   "cell_type": "code",
   "execution_count": 2,
   "metadata": {
    "tags": []
   },
   "outputs": [],
   "source": [
    "output_path = './models/granny_model'\n",
    "base_adapter_path=\"./models/recipes_model\"\n",
    "os.makedirs(output_path, exist_ok=True)\n",
    "config = PeftConfig.from_pretrained(base_adapter_path)\n",
    "base_model_name = config.base_model_name_or_path"
   ]
  },
  {
   "cell_type": "code",
   "execution_count": 3,
   "metadata": {
    "tags": []
   },
   "outputs": [
    {
     "name": "stdout",
     "output_type": "stream",
     "text": [
      "deepspeed:  None\n",
      "models/llama2-7b\n"
     ]
    },
    {
     "name": "stdout",
     "output_type": "stream",
     "text": [
      "Vocab size:  32000\n",
      "PAD:  0 <unk>\n",
      "BOS:  1 <s>\n",
      "EOS:  2 </s>\n",
      "UNK:  0 <unk>\n",
      "SEP:  None None\n"
     ]
    },
    {
     "name": "stderr",
     "output_type": "stream",
     "text": [
      "100%|██████████| 18/18 [00:00<00:00, 276.65it/s]\n",
      "100%|██████████| 3/3 [00:00<00:00, 252.07it/s]"
     ]
    },
    {
     "name": "stdout",
     "output_type": "stream",
     "text": [
      "Load model\n",
      "use 8 bit: True\n",
      "use 4 bit: False\n"
     ]
    },
    {
     "name": "stderr",
     "output_type": "stream",
     "text": [
      "\n",
      "Loading checkpoint shards: 100%|██████████| 2/2 [01:13<00:00, 36.80s/it]\n"
     ]
    },
    {
     "name": "stdout",
     "output_type": "stream",
     "text": [
      "Load Adapter\n"
     ]
    },
    {
     "name": "stderr",
     "output_type": "stream",
     "text": [
      "`use_cache=True` is incompatible with gradient checkpointing. Setting `use_cache=False`...\n"
     ]
    },
    {
     "name": "stdout",
     "output_type": "stream",
     "text": [
      "training run.\n"
     ]
    },
    {
     "data": {
      "text/html": [
       "\n",
       "    <div>\n",
       "      \n",
       "      <progress value='50' max='50' style='width:300px; height:20px; vertical-align: middle;'></progress>\n",
       "      [50/50 16:09, Epoch 44/50]\n",
       "    </div>\n",
       "    <table border=\"1\" class=\"dataframe\">\n",
       "  <thead>\n",
       " <tr style=\"text-align: left;\">\n",
       "      <th>Step</th>\n",
       "      <th>Training Loss</th>\n",
       "      <th>Validation Loss</th>\n",
       "    </tr>\n",
       "  </thead>\n",
       "  <tbody>\n",
       "    <tr>\n",
       "      <td>5</td>\n",
       "      <td>No log</td>\n",
       "      <td>0.988845</td>\n",
       "    </tr>\n",
       "    <tr>\n",
       "      <td>10</td>\n",
       "      <td>0.117200</td>\n",
       "      <td>0.902335</td>\n",
       "    </tr>\n",
       "    <tr>\n",
       "      <td>15</td>\n",
       "      <td>0.117200</td>\n",
       "      <td>0.880322</td>\n",
       "    </tr>\n",
       "    <tr>\n",
       "      <td>20</td>\n",
       "      <td>0.085500</td>\n",
       "      <td>0.923268</td>\n",
       "    </tr>\n",
       "    <tr>\n",
       "      <td>25</td>\n",
       "      <td>0.085500</td>\n",
       "      <td>0.964853</td>\n",
       "    </tr>\n",
       "    <tr>\n",
       "      <td>30</td>\n",
       "      <td>0.048500</td>\n",
       "      <td>1.079148</td>\n",
       "    </tr>\n",
       "    <tr>\n",
       "      <td>35</td>\n",
       "      <td>0.048500</td>\n",
       "      <td>1.175153</td>\n",
       "    </tr>\n",
       "    <tr>\n",
       "      <td>40</td>\n",
       "      <td>0.015000</td>\n",
       "      <td>1.322826</td>\n",
       "    </tr>\n",
       "    <tr>\n",
       "      <td>45</td>\n",
       "      <td>0.015000</td>\n",
       "      <td>1.412606</td>\n",
       "    </tr>\n",
       "    <tr>\n",
       "      <td>50</td>\n",
       "      <td>0.002800</td>\n",
       "      <td>1.567160</td>\n",
       "    </tr>\n",
       "  </tbody>\n",
       "</table><p>"
      ],
      "text/plain": [
       "<IPython.core.display.HTML object>"
      ]
     },
     "metadata": {},
     "output_type": "display_data"
    },
    {
     "name": "stdout",
     "output_type": "stream",
     "text": [
      "save model to ./models/granny_model\n"
     ]
    }
   ],
   "source": [
    "train(config_file=\"config/train_granny_config.json\",\n",
    "     train_file='datasets/train_dialogues.jsonl',\n",
    "     val_file='datasets/test_dialogues.jsonl',\n",
    "     model_path=base_model_name,\n",
    "     adapter_path=base_adapter_path, \n",
    "     report_to='none',\n",
    "     output_dir=output_path\n",
    "     )"
   ]
  },
  {
   "cell_type": "markdown",
   "metadata": {},
   "source": [
    "### Запуск модели внутри сервиса.\n",
    "\n",
    "Для того чтобы сервис подхватил модель, ее необходимо переместить из папки \n",
    "./train/models/granny_model в папку models."
   ]
  },
  {
   "cell_type": "code",
   "execution_count": 7,
   "metadata": {},
   "outputs": [],
   "source": [
    "os.makedirs('../models', exist_ok=True)\n",
    "file_dir = os.path.dirname(os.path.realpath('__file__'))\n",
    "\n",
    "source_dir = os.path.join(file_dir, 'models/granny_model')\n",
    "dst_dir = os.path.join(file_dir, '../models')"
   ]
  },
  {
   "cell_type": "code",
   "execution_count": null,
   "metadata": {},
   "outputs": [],
   "source": [
    "shutil.copytree(source_dir, dst_dir, dirs_exist_ok=True, symlinks=True)"
   ]
  }
 ],
 "metadata": {
  "kernelspec": {
   "display_name": "Python 3 (ipykernel)",
   "language": "python",
   "name": "python3"
  },
  "language_info": {
   "codemirror_mode": {
    "name": "ipython",
    "version": 3
   },
   "file_extension": ".py",
   "mimetype": "text/x-python",
   "name": "python",
   "nbconvert_exporter": "python",
   "pygments_lexer": "ipython3",
   "version": "3.10.12"
  }
 },
 "nbformat": 4,
 "nbformat_minor": 4
}
