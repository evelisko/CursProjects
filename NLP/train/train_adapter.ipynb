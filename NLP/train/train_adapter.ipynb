{
 "cells": [
  {
   "cell_type": "code",
   "execution_count": 2,
   "metadata": {},
   "outputs": [],
   "source": [
    "import os\n",
    "import shutil\n",
    "from typing import List\n",
    "from transformers import AutoTokenizer, GenerationConfig, AutoModelForCausalLM, AutoConfig\n",
    "from peft import PeftConfig, PeftModel\n",
    "from train import train"
   ]
  },
  {
   "cell_type": "markdown",
   "metadata": {},
   "source": [
    "### Загрузка и сохранение на диск базовой модели."
   ]
  },
  {
   "cell_type": "code",
   "execution_count": 16,
   "metadata": {},
   "outputs": [],
   "source": [
    "adapter_path = 'models/adapter'\n",
    "base_adapter_name = 'IlyaGusev/saiga2_7b_lora'\n",
    "\n",
    "os.makedirs(adapter_path, exist_ok=True)"
   ]
  },
  {
   "cell_type": "code",
   "execution_count": null,
   "metadata": {},
   "outputs": [],
   "source": [
    "tokenizer = AutoTokenizer.from_pretrained(base_adapter_name, use_fast=False, padding_side='left')\n",
    "generation_config = GenerationConfig.from_pretrained(base_adapter_name, do_sample=True)\n",
    "\n",
    "config = PeftConfig.from_pretrained(base_adapter_name)"
   ]
  },
  {
   "cell_type": "code",
   "execution_count": 14,
   "metadata": {},
   "outputs": [
    {
     "name": "stderr",
     "output_type": "stream",
     "text": [
      "Loading checkpoint shards: 100%|██████████| 2/2 [00:30<00:00, 15.19s/it]\n"
     ]
    }
   ],
   "source": [
    "base_model_name = config.base_model_name_or_path\n",
    "base_model_config = AutoConfig.from_pretrained(config.base_model_name_or_path)\n",
    "\n",
    "model = AutoModelForCausalLM.from_pretrained(\n",
    "    base_model_name,\n",
    "    torch_dtype=base_model_config.torch_dtype,\n",
    "    # load_in_8bit=True,\n",
    "    # device_map=\"auto\",\n",
    ")"
   ]
  },
  {
   "cell_type": "code",
   "execution_count": 17,
   "metadata": {},
   "outputs": [
    {
     "name": "stderr",
     "output_type": "stream",
     "text": [
      "Downloading adapter_model.bin: 100%|██████████| 67.2M/67.2M [00:06<00:00, 10.7MB/s]\n"
     ]
    }
   ],
   "source": [
    "model = PeftModel.from_pretrained(model, base_adapter_name)"
   ]
  },
  {
   "cell_type": "code",
   "execution_count": 18,
   "metadata": {},
   "outputs": [],
   "source": [
    "model.save_pretrained(adapter_path)\n",
    "tokenizer.save_pretrained(adapter_path)\n",
    "generation_config.save_pretrained(adapter_path)"
   ]
  },
  {
   "cell_type": "markdown",
   "metadata": {},
   "source": [
    "### Тренировка модели вопросах и ответах."
   ]
  },
  {
   "cell_type": "code",
   "execution_count": 2,
   "metadata": {
    "jupyter": {
     "source_hidden": true
    }
   },
   "outputs": [],
   "source": [
    "output_path = './models/recepties_model'\n",
    "base_adapter_path = \"./models/adapter\"\n",
    "os.makedirs(output_path, exist_ok=True)\n",
    "config = PeftConfig.from_pretrained(base_adapter_path)\n",
    "base_model_name = config.base_model_name_or_path"
   ]
  },
  {
   "cell_type": "code",
   "execution_count": null,
   "metadata": {
    "jupyter": {
     "source_hidden": true
    },
    "scrolled": true
   },
   "outputs": [],
   "source": [
    "train(config_file='config/train_recepies_config.json',\n",
    "     train_file='datasets/train_recepies.jsonl',\n",
    "     val_file='datasets/test_recepies.jsonl',\n",
    "     model_path=base_model_name,\n",
    "     adapter_path=base_adapter_path, \n",
    "     report_to='none',\n",
    "     output_dir=output_path\n",
    "     )\n",
    "\n",
    "# Здесь, забыл загрузить ноутбук с выводом хода обучения модели. Поэтому его нет."
   ]
  },
  {
   "cell_type": "markdown",
   "metadata": {},
   "source": [
    "### Тренировка модели на диалогах с персонажем.\n",
    "\n",
    "Происходит дообучение адаптера из предыдущего этапа."
   ]
  },
  {
   "cell_type": "code",
   "execution_count": 2,
   "metadata": {},
   "outputs": [],
   "source": [
    "output_path = './models/granny_model'\n",
    "base_adapter_path=\"./models/recepies_model\"\n",
    "os.makedirs(output_path, exist_ok=True)\n",
    "config = PeftConfig.from_pretrained(base_adapter_path)\n",
    "base_model_name = config.base_model_name_or_path"
   ]
  },
  {
   "cell_type": "code",
   "execution_count": 3,
   "metadata": {},
   "outputs": [
    {
     "name": "stdout",
     "output_type": "stream",
     "text": [
      "deepspeed:  None\n",
      "models/llama2-7b\n"
     ]
    },
    {
     "name": "stdout",
     "output_type": "stream",
     "text": [
      "Vocab size:  32000\n",
      "PAD:  0 <unk>\n",
      "BOS:  1 <s>\n",
      "EOS:  2 </s>\n",
      "UNK:  0 <unk>\n",
      "SEP:  None None\n"
     ]
    },
    {
     "name": "stderr",
     "output_type": "stream",
     "text": [
      "100%|██████████| 18/18 [00:00<00:00, 386.56it/s]\n"
     ]
    },
    {
     "name": "stderr",
     "output_type": "stream",
     "text": [
      "100%|██████████| 3/3 [00:00<00:00, 345.83it/s]"
     ]
    },
    {
     "name": "stderr",
     "output_type": "stream",
     "text": [
      "\n",
      "Loading checkpoint shards: 100%|██████████| 2/2 [00:07<00:00,  3.91s/it]\n"
     ]
    },
    {
     "name": "stdout",
     "output_type": "stream",
     "text": [
      "Load Adapter\n",
      "training run.\n"
     ]
    },
    {
     "data": {
      "text/html": [
       "\n",
       "    <div>\n",
       "      \n",
       "      <progress value='50' max='50' style='width:300px; height:20px; vertical-align: middle;'></progress>\n",
       "      [50/50 04:36, Epoch 44/50]\n",
       "    </div>\n",
       "    <table border=\"1\" class=\"dataframe\">\n",
       "  <thead>\n",
       " <tr style=\"text-align: left;\">\n",
       "      <th>Step</th>\n",
       "      <th>Training Loss</th>\n",
       "      <th>Validation Loss</th>\n",
       "    </tr>\n",
       "  </thead>\n",
       "  <tbody>\n",
       "    <tr>\n",
       "      <td>5</td>\n",
       "      <td>0.191000</td>\n",
       "      <td>1.293423</td>\n",
       "    </tr>\n",
       "    <tr>\n",
       "      <td>10</td>\n",
       "      <td>0.172200</td>\n",
       "      <td>1.243647</td>\n",
       "    </tr>\n",
       "    <tr>\n",
       "      <td>15</td>\n",
       "      <td>0.173100</td>\n",
       "      <td>1.162909</td>\n",
       "    </tr>\n",
       "    <tr>\n",
       "      <td>20</td>\n",
       "      <td>0.153700</td>\n",
       "      <td>1.084182</td>\n",
       "    </tr>\n",
       "    <tr>\n",
       "      <td>25</td>\n",
       "      <td>0.094500</td>\n",
       "      <td>1.019669</td>\n",
       "    </tr>\n",
       "    <tr>\n",
       "      <td>30</td>\n",
       "      <td>0.127800</td>\n",
       "      <td>0.962937</td>\n",
       "    </tr>\n",
       "    <tr>\n",
       "      <td>35</td>\n",
       "      <td>0.091000</td>\n",
       "      <td>0.899210</td>\n",
       "    </tr>\n",
       "    <tr>\n",
       "      <td>40</td>\n",
       "      <td>0.079600</td>\n",
       "      <td>0.862403</td>\n",
       "    </tr>\n",
       "    <tr>\n",
       "      <td>45</td>\n",
       "      <td>0.097400</td>\n",
       "      <td>0.865269</td>\n",
       "    </tr>\n",
       "    <tr>\n",
       "      <td>50</td>\n",
       "      <td>0.059300</td>\n",
       "      <td>0.873350</td>\n",
       "    </tr>\n",
       "  </tbody>\n",
       "</table><p>"
      ],
      "text/plain": [
       "<IPython.core.display.HTML object>"
      ]
     },
     "metadata": {},
     "output_type": "display_data"
    },
    {
     "name": "stdout",
     "output_type": "stream",
     "text": [
      "save model to ./models/granny_model\n"
     ]
    }
   ],
   "source": [
    "train(config_file=\"config/train_granny_config.json\",\n",
    "     train_file='datasets/train_dialogues1.jsonl',\n",
    "     val_file='datasets/test_dialogues1.jsonl',\n",
    "     model_path=base_model_name,\n",
    "     adapter_path=base_adapter_path, \n",
    "     report_to='none',\n",
    "     output_dir=output_path\n",
    "     )"
   ]
  },
  {
   "cell_type": "markdown",
   "metadata": {},
   "source": [
    "### Запуск модели внутри сервиса.\n",
    "\n",
    "Для того чтобы сервис подхватил модель, ее необходимо переместить из папки \n",
    "./train/models/granny_model в папку models."
   ]
  },
  {
   "cell_type": "code",
   "execution_count": 7,
   "metadata": {},
   "outputs": [],
   "source": [
    "os.makedirs('../models', exist_ok=True)\n",
    "file_dir = os.path.dirname(os.path.realpath('__file__'))\n",
    "\n",
    "source_dir = os.path.join(file_dir, 'models/granny_model')\n",
    "dst_dir = os.path.join(file_dir, '../models')"
   ]
  },
  {
   "cell_type": "code",
   "execution_count": null,
   "metadata": {},
   "outputs": [],
   "source": [
    "shutil.copytree(source_dir, dst_dir, dirs_exist_ok=True, symlinks=True)"
   ]
  }
 ],
 "metadata": {
  "kernelspec": {
   "display_name": "Python 3 (ipykernel)",
   "language": "python",
   "name": "python3"
  },
  "language_info": {
   "codemirror_mode": {
    "name": "ipython",
    "version": 3
   },
   "file_extension": ".py",
   "mimetype": "text/x-python",
   "name": "python",
   "nbconvert_exporter": "python",
   "pygments_lexer": "ipython3",
   "version": "3.10.12"
  }
 },
 "nbformat": 4,
 "nbformat_minor": 4
}
