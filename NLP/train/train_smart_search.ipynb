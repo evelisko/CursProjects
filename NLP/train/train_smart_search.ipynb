{
 "cells": [
  {
   "cell_type": "code",
   "execution_count": 70,
   "metadata": {},
   "outputs": [],
   "source": [
    "import ast\n",
    "import os\n",
    "import sys\n",
    "import json\n",
    "import pickle\n",
    "import nmslib\n",
    "import numpy as np\n",
    "import pandas as pd\n",
    "from tqdm import tqdm\n",
    "from rank_bm25 import BM25Okapi\n",
    "from gensim.models.fasttext import FastText\n",
    "\n",
    "sys.path.append('../')\n",
    "from utils.dataset_prepare import clean_text, lemmatization, correct_text, join_columns, get_tokens"
   ]
  },
  {
   "cell_type": "markdown",
   "metadata": {},
   "source": [
    "### Подготовка датасета"
   ]
  },
  {
   "cell_type": "code",
   "execution_count": 71,
   "metadata": {},
   "outputs": [],
   "source": [
    "dataset_path = 'all_recepies_inter.csv'\n",
    "\n",
    "dataset_dir = '../datasets'\n",
    "prepared_dataset_path = os.path.join(dataset_dir, 'recipes.json')"
   ]
  },
  {
   "cell_type": "code",
   "execution_count": 72,
   "metadata": {},
   "outputs": [],
   "source": [
    "os.makedirs(dataset_dir, exist_ok=True)"
   ]
  },
  {
   "cell_type": "code",
   "execution_count": 73,
   "metadata": {},
   "outputs": [],
   "source": [
    "df = pd.read_csv(dataset_path, sep='\\t', usecols=('name', 'composition', 'Инструкции')).rename(columns={\"Инструкции\": \"instructions\"})"
   ]
  },
  {
   "cell_type": "code",
   "execution_count": 74,
   "metadata": {},
   "outputs": [],
   "source": [
    "def convert_composition(composition: str):\n",
    "    composition = ast.literal_eval(composition)\n",
    "    foods = []\n",
    "    for d in composition:\n",
    "        foods.append(list(d.keys())[0])\n",
    "    return ' '.join(foods)"
   ]
  },
  {
   "cell_type": "code",
   "execution_count": 75,
   "metadata": {},
   "outputs": [],
   "source": [
    "df['composition'] = df['composition'].apply(convert_composition)"
   ]
  },
  {
   "cell_type": "code",
   "execution_count": 76,
   "metadata": {},
   "outputs": [
    {
     "data": {
      "text/html": [
       "<div>\n",
       "<style scoped>\n",
       "    .dataframe tbody tr th:only-of-type {\n",
       "        vertical-align: middle;\n",
       "    }\n",
       "\n",
       "    .dataframe tbody tr th {\n",
       "        vertical-align: top;\n",
       "    }\n",
       "\n",
       "    .dataframe thead th {\n",
       "        text-align: right;\n",
       "    }\n",
       "</style>\n",
       "<table border=\"1\" class=\"dataframe\">\n",
       "  <thead>\n",
       "    <tr style=\"text-align: right;\">\n",
       "      <th></th>\n",
       "      <th>name</th>\n",
       "      <th>composition</th>\n",
       "      <th>instructions</th>\n",
       "    </tr>\n",
       "  </thead>\n",
       "  <tbody>\n",
       "    <tr>\n",
       "      <th>27881</th>\n",
       "      <td>Самый зеленый салат</td>\n",
       "      <td>Мангольд Яблоки «гренни-смит» Огурцы Оливки Зе...</td>\n",
       "      <td>1. Чеснок натереть, сыр фета раскрошить.\\r\\n2....</td>\n",
       "    </tr>\n",
       "    <tr>\n",
       "      <th>27882</th>\n",
       "      <td>Теплый салат с тыквой и брынзой под…</td>\n",
       "      <td>Тыква Сыр брынза Кедровые орехи Кунжутные семе...</td>\n",
       "      <td>1. Тыкву нарезаем кубиками, добавляем оливково...</td>\n",
       "    </tr>\n",
       "    <tr>\n",
       "      <th>27883</th>\n",
       "      <td>Салат из раковых шеек в авокадо</td>\n",
       "      <td>Авокадо Груши Сыр Зеленый лук Раковые шейки Тв...</td>\n",
       "      <td>1. Авокадо разрезать на две половинки, удалить...</td>\n",
       "    </tr>\n",
       "  </tbody>\n",
       "</table>\n",
       "</div>"
      ],
      "text/plain": [
       "                                       name  \\\n",
       "27881                   Самый зеленый салат   \n",
       "27882  Теплый салат с тыквой и брынзой под…   \n",
       "27883       Салат из раковых шеек в авокадо   \n",
       "\n",
       "                                             composition  \\\n",
       "27881  Мангольд Яблоки «гренни-смит» Огурцы Оливки Зе...   \n",
       "27882  Тыква Сыр брынза Кедровые орехи Кунжутные семе...   \n",
       "27883  Авокадо Груши Сыр Зеленый лук Раковые шейки Тв...   \n",
       "\n",
       "                                            instructions  \n",
       "27881  1. Чеснок натереть, сыр фета раскрошить.\\r\\n2....  \n",
       "27882  1. Тыкву нарезаем кубиками, добавляем оливково...  \n",
       "27883  1. Авокадо разрезать на две половинки, удалить...  "
      ]
     },
     "execution_count": 76,
     "metadata": {},
     "output_type": "execute_result"
    }
   ],
   "source": [
    "df.tail(3)"
   ]
  },
  {
   "cell_type": "markdown",
   "metadata": {},
   "source": [
    "Удалим рецепты в которых есть ссылки на внешние ресурсы."
   ]
  },
  {
   "cell_type": "code",
   "execution_count": 77,
   "metadata": {},
   "outputs": [],
   "source": [
    "df = df[~df['instructions'].str.contains('http', na=False)]"
   ]
  },
  {
   "cell_type": "code",
   "execution_count": 78,
   "metadata": {},
   "outputs": [
    {
     "data": {
      "text/plain": [
       "27776"
      ]
     },
     "execution_count": 78,
     "metadata": {},
     "output_type": "execute_result"
    }
   ],
   "source": [
    "unique_val = df['name'].nunique()\n",
    "unique_val"
   ]
  },
  {
   "cell_type": "code",
   "execution_count": 79,
   "metadata": {},
   "outputs": [
    {
     "data": {
      "text/plain": [
       "name\n",
       "Оссобуко                                       3\n",
       "Новогодний салат \"Елка\"                        3\n",
       "Клубничный сорбет                              3\n",
       "Шоколадный мусс                                3\n",
       "Тыквенный пирог                                3\n",
       "                                              ..\n",
       "Картофельная запеканка с капустой и грибами    1\n",
       "Грудинка в пакете                              1\n",
       "Курица в вине с грибами                        1\n",
       "Курица с лимоном и медом от Гордона Рамзи      1\n",
       "Утиная печень с грибами                        1\n",
       "Name: count, Length: 27776, dtype: int64"
      ]
     },
     "execution_count": 79,
     "metadata": {},
     "output_type": "execute_result"
    }
   ],
   "source": [
    "df['name'].value_counts()"
   ]
  },
  {
   "cell_type": "markdown",
   "metadata": {},
   "source": [
    "Удалим дубликаты инструкций."
   ]
  },
  {
   "cell_type": "code",
   "execution_count": 80,
   "metadata": {},
   "outputs": [],
   "source": [
    "df = df.drop_duplicates(subset=['name'])\n",
    "df = df.drop_duplicates(subset=['instructions'])"
   ]
  },
  {
   "cell_type": "code",
   "execution_count": 81,
   "metadata": {},
   "outputs": [
    {
     "data": {
      "text/plain": [
       "name            0\n",
       "composition     0\n",
       "instructions    0\n",
       "dtype: int64"
      ]
     },
     "execution_count": 81,
     "metadata": {},
     "output_type": "execute_result"
    }
   ],
   "source": [
    "df.isnull().sum()"
   ]
  },
  {
   "cell_type": "markdown",
   "metadata": {},
   "source": [
    "#### Объединим столбцы 'name' и 'composition'"
   ]
  },
  {
   "cell_type": "code",
   "execution_count": 82,
   "metadata": {},
   "outputs": [],
   "source": [
    "df = df.reset_index(drop=True)"
   ]
  },
  {
   "cell_type": "code",
   "execution_count": 83,
   "metadata": {},
   "outputs": [
    {
     "name": "stderr",
     "output_type": "stream",
     "text": [
      "100%|██████████| 27753/27753 [00:00<00:00, 135352.05it/s]\n"
     ]
    }
   ],
   "source": [
    "join_columns(df, 'dish_name', ['name','composition'])"
   ]
  },
  {
   "cell_type": "code",
   "execution_count": 84,
   "metadata": {},
   "outputs": [
    {
     "data": {
      "text/html": [
       "<div>\n",
       "<style scoped>\n",
       "    .dataframe tbody tr th:only-of-type {\n",
       "        vertical-align: middle;\n",
       "    }\n",
       "\n",
       "    .dataframe tbody tr th {\n",
       "        vertical-align: top;\n",
       "    }\n",
       "\n",
       "    .dataframe thead th {\n",
       "        text-align: right;\n",
       "    }\n",
       "</style>\n",
       "<table border=\"1\" class=\"dataframe\">\n",
       "  <thead>\n",
       "    <tr style=\"text-align: right;\">\n",
       "      <th></th>\n",
       "      <th>name</th>\n",
       "      <th>composition</th>\n",
       "      <th>instructions</th>\n",
       "      <th>dish_name</th>\n",
       "    </tr>\n",
       "  </thead>\n",
       "  <tbody>\n",
       "    <tr>\n",
       "      <th>0</th>\n",
       "      <td>рассольник классический с перловкой и солеными...</td>\n",
       "      <td>Перловка Соленые огурцы Морковь Лук Чеснок Сте...</td>\n",
       "      <td>Подготовить указанные ингредиенты для приготов...</td>\n",
       "      <td>рассольник классический с перловкой и солеными...</td>\n",
       "    </tr>\n",
       "    <tr>\n",
       "      <th>1</th>\n",
       "      <td>Суп пюре из белокочаной капусты</td>\n",
       "      <td>Капуста белокочанная Картошка Лук репчатый Мор...</td>\n",
       "      <td>Необходимые ингредиенты\\r\\nНарезаем лук, морко...</td>\n",
       "      <td>суп пюре из белокочаной капусты капуста белоко...</td>\n",
       "    </tr>\n",
       "    <tr>\n",
       "      <th>2</th>\n",
       "      <td>Постные щи из квашеной капусты</td>\n",
       "      <td>Капуста квашеная Мак пищевой Морковь Лук репча...</td>\n",
       "      <td>Честно признаюсь, у меня не было репы на момен...</td>\n",
       "      <td>постные щи из квашеной капусты капуста квашена...</td>\n",
       "    </tr>\n",
       "    <tr>\n",
       "      <th>3</th>\n",
       "      <td>Тюря- простой суп быстро и вкусно</td>\n",
       "      <td>Квас Лук репчатый Черный хлеб Чеснок Зелёный л...</td>\n",
       "      <td>\\r\\nНачинаем мы приготовление тюри с того, что...</td>\n",
       "      <td>тюря- простой суп быстро и вкусно квас лук реп...</td>\n",
       "    </tr>\n",
       "    <tr>\n",
       "      <th>4</th>\n",
       "      <td>Фасолевый суп из красной фасоли</td>\n",
       "      <td>Вода Картошка Морковь Фасоль Томатная паста Пе...</td>\n",
       "      <td>Подготовить ингредиенты. Для приготовления суп...</td>\n",
       "      <td>фасолевый суп из красной фасоли вода картошка ...</td>\n",
       "    </tr>\n",
       "  </tbody>\n",
       "</table>\n",
       "</div>"
      ],
      "text/plain": [
       "                                                name  \\\n",
       "0  рассольник классический с перловкой и солеными...   \n",
       "1                    Суп пюре из белокочаной капусты   \n",
       "2                     Постные щи из квашеной капусты   \n",
       "3                  Тюря- простой суп быстро и вкусно   \n",
       "4                    Фасолевый суп из красной фасоли   \n",
       "\n",
       "                                         composition  \\\n",
       "0  Перловка Соленые огурцы Морковь Лук Чеснок Сте...   \n",
       "1  Капуста белокочанная Картошка Лук репчатый Мор...   \n",
       "2  Капуста квашеная Мак пищевой Морковь Лук репча...   \n",
       "3  Квас Лук репчатый Черный хлеб Чеснок Зелёный л...   \n",
       "4  Вода Картошка Морковь Фасоль Томатная паста Пе...   \n",
       "\n",
       "                                        instructions  \\\n",
       "0  Подготовить указанные ингредиенты для приготов...   \n",
       "1  Необходимые ингредиенты\\r\\nНарезаем лук, морко...   \n",
       "2  Честно признаюсь, у меня не было репы на момен...   \n",
       "3  \\r\\nНачинаем мы приготовление тюри с того, что...   \n",
       "4  Подготовить ингредиенты. Для приготовления суп...   \n",
       "\n",
       "                                           dish_name  \n",
       "0  рассольник классический с перловкой и солеными...  \n",
       "1  суп пюре из белокочаной капусты капуста белоко...  \n",
       "2  постные щи из квашеной капусты капуста квашена...  \n",
       "3  тюря- простой суп быстро и вкусно квас лук реп...  \n",
       "4  фасолевый суп из красной фасоли вода картошка ...  "
      ]
     },
     "execution_count": 84,
     "metadata": {},
     "output_type": "execute_result"
    }
   ],
   "source": [
    "df.head()"
   ]
  },
  {
   "cell_type": "markdown",
   "metadata": {},
   "source": [
    "Выполним предобработку текста перед тем как обучить FastText \n",
    "1. Уберем из текста стоп-слова, \n",
    "2. выполним лематизацию текста."
   ]
  },
  {
   "cell_type": "code",
   "execution_count": 85,
   "metadata": {},
   "outputs": [],
   "source": [
    "df['dish_name'] = df['dish_name'].apply(lambda x: clean_text(x))"
   ]
  },
  {
   "cell_type": "code",
   "execution_count": 86,
   "metadata": {},
   "outputs": [
    {
     "name": "stdout",
     "output_type": "stream",
     "text": [
      "CPU times: user 1.34 s, sys: 280 µs, total: 1.35 s\n",
      "Wall time: 1.34 s\n"
     ]
    }
   ],
   "source": [
    "%%time \n",
    "df['dish_name'] = df['dish_name'].apply(lambda x: lemmatization(x))"
   ]
  },
  {
   "cell_type": "code",
   "execution_count": 87,
   "metadata": {},
   "outputs": [],
   "source": [
    "df['dish_name'] = df['dish_name'].apply(lambda x: list(set(x.split(','))))"
   ]
  },
  {
   "cell_type": "code",
   "execution_count": 88,
   "metadata": {},
   "outputs": [
    {
     "data": {
      "text/html": [
       "<div>\n",
       "<style scoped>\n",
       "    .dataframe tbody tr th:only-of-type {\n",
       "        vertical-align: middle;\n",
       "    }\n",
       "\n",
       "    .dataframe tbody tr th {\n",
       "        vertical-align: top;\n",
       "    }\n",
       "\n",
       "    .dataframe thead th {\n",
       "        text-align: right;\n",
       "    }\n",
       "</style>\n",
       "<table border=\"1\" class=\"dataframe\">\n",
       "  <thead>\n",
       "    <tr style=\"text-align: right;\">\n",
       "      <th></th>\n",
       "      <th>name</th>\n",
       "      <th>composition</th>\n",
       "      <th>instructions</th>\n",
       "      <th>dish_name</th>\n",
       "    </tr>\n",
       "  </thead>\n",
       "  <tbody>\n",
       "    <tr>\n",
       "      <th>0</th>\n",
       "      <td>рассольник классический с перловкой и солеными...</td>\n",
       "      <td>Перловка Соленые огурцы Морковь Лук Чеснок Сте...</td>\n",
       "      <td>Подготовить указанные ингредиенты для приготов...</td>\n",
       "      <td>[рассольник, паста, томатная, картошка, стебел...</td>\n",
       "    </tr>\n",
       "    <tr>\n",
       "      <th>1</th>\n",
       "      <td>Суп пюре из белокочаной капусты</td>\n",
       "      <td>Капуста белокочанная Картошка Лук репчатый Мор...</td>\n",
       "      <td>Необходимые ингредиенты\\r\\nНарезаем лук, морко...</td>\n",
       "      <td>[масло, вода, лист, картошка, лавровый, оливко...</td>\n",
       "    </tr>\n",
       "    <tr>\n",
       "      <th>2</th>\n",
       "      <td>Постные щи из квашеной капусты</td>\n",
       "      <td>Капуста квашеная Мак пищевой Морковь Лук репча...</td>\n",
       "      <td>Честно признаюсь, у меня не было репы на момен...</td>\n",
       "      <td>[масло, пищевой, щи, репа, квашеной, капусты, ...</td>\n",
       "    </tr>\n",
       "    <tr>\n",
       "      <th>3</th>\n",
       "      <td>Тюря- простой суп быстро и вкусно</td>\n",
       "      <td>Квас Лук репчатый Черный хлеб Чеснок Зелёный л...</td>\n",
       "      <td>\\r\\nНачинаем мы приготовление тюри с того, что...</td>\n",
       "      <td>[хлеб, зелень, кинзы, простой, репчатый, квас,...</td>\n",
       "    </tr>\n",
       "    <tr>\n",
       "      <th>4</th>\n",
       "      <td>Фасолевый суп из красной фасоли</td>\n",
       "      <td>Вода Картошка Морковь Фасоль Томатная паста Пе...</td>\n",
       "      <td>Подготовить ингредиенты. Для приготовления суп...</td>\n",
       "      <td>[петрушка, фасоли, паста, молотый, томатная, м...</td>\n",
       "    </tr>\n",
       "  </tbody>\n",
       "</table>\n",
       "</div>"
      ],
      "text/plain": [
       "                                                name  \\\n",
       "0  рассольник классический с перловкой и солеными...   \n",
       "1                    Суп пюре из белокочаной капусты   \n",
       "2                     Постные щи из квашеной капусты   \n",
       "3                  Тюря- простой суп быстро и вкусно   \n",
       "4                    Фасолевый суп из красной фасоли   \n",
       "\n",
       "                                         composition  \\\n",
       "0  Перловка Соленые огурцы Морковь Лук Чеснок Сте...   \n",
       "1  Капуста белокочанная Картошка Лук репчатый Мор...   \n",
       "2  Капуста квашеная Мак пищевой Морковь Лук репча...   \n",
       "3  Квас Лук репчатый Черный хлеб Чеснок Зелёный л...   \n",
       "4  Вода Картошка Морковь Фасоль Томатная паста Пе...   \n",
       "\n",
       "                                        instructions  \\\n",
       "0  Подготовить указанные ингредиенты для приготов...   \n",
       "1  Необходимые ингредиенты\\r\\nНарезаем лук, морко...   \n",
       "2  Честно признаюсь, у меня не было репы на момен...   \n",
       "3  \\r\\nНачинаем мы приготовление тюри с того, что...   \n",
       "4  Подготовить ингредиенты. Для приготовления суп...   \n",
       "\n",
       "                                           dish_name  \n",
       "0  [рассольник, паста, томатная, картошка, стебел...  \n",
       "1  [масло, вода, лист, картошка, лавровый, оливко...  \n",
       "2  [масло, пищевой, щи, репа, квашеной, капусты, ...  \n",
       "3  [хлеб, зелень, кинзы, простой, репчатый, квас,...  \n",
       "4  [петрушка, фасоли, паста, молотый, томатная, м...  "
      ]
     },
     "execution_count": 88,
     "metadata": {},
     "output_type": "execute_result"
    }
   ],
   "source": [
    "df.head()"
   ]
  },
  {
   "cell_type": "code",
   "execution_count": 90,
   "metadata": {},
   "outputs": [],
   "source": [
    "df.to_json(prepared_dataset_path, index=False, orient='table', force_ascii=False)"
   ]
  },
  {
   "cell_type": "markdown",
   "metadata": {},
   "source": [
    "### Обучение модели векторизатора (FastText)."
   ]
  },
  {
   "cell_type": "code",
   "execution_count": 91,
   "metadata": {},
   "outputs": [],
   "source": [
    "vectorizer_model_path = '../models/fasttext.model'\n",
    "vector_db = '../datasets/weighted_doc_vects.p'"
   ]
  },
  {
   "cell_type": "code",
   "execution_count": 92,
   "metadata": {},
   "outputs": [],
   "source": [
    "tok_text = list(df['dish_name'].values)"
   ]
  },
  {
   "cell_type": "code",
   "execution_count": 93,
   "metadata": {},
   "outputs": [],
   "source": [
    "ft_model = FastText(\n",
    "    sg=1, # use skip-gram: usually gives better results\n",
    "    vector_size=200, # embedding dimension (default)\n",
    "    window=10, # window size: 10 tokens before and 10 tokens after to get wider context\n",
    "    min_count=5, # only consider tokens with at least n occurrences in the corpus\n",
    "    negative=15, # negative subsampling: bigger than default to sample negative examples more\n",
    "    min_n=2, # min character n-gram\n",
    "    max_n=6 # max character n-gram\n",
    ")\n",
    "ft_model.build_vocab(tok_text) # tok_text is our tokenized input text - a list of lists relating to docs and tokens respectivley"
   ]
  },
  {
   "cell_type": "code",
   "execution_count": 94,
   "metadata": {},
   "outputs": [],
   "source": [
    "ft_model.train(\n",
    "    tok_text,\n",
    "    epochs=6,\n",
    "    total_examples=ft_model.corpus_count, \n",
    "    total_words=ft_model.corpus_total_words)\n",
    "\n",
    "ft_model.save(vectorizer_model_path)"
   ]
  },
  {
   "cell_type": "code",
   "execution_count": 95,
   "metadata": {},
   "outputs": [],
   "source": [
    "# Здесь рекомендации посмотрены по иному принципу. Сперва выполняется поиск конкрентого названия фильма, \n",
    "# а затем на основе найденного фильма система рекомендует выдает похожие на него."
   ]
  },
  {
   "cell_type": "markdown",
   "metadata": {},
   "source": [
    "### Создание базы векторов для всех рецептов."
   ]
  },
  {
   "cell_type": "code",
   "execution_count": 96,
   "metadata": {},
   "outputs": [],
   "source": [
    "ft_model = FastText.load(vectorizer_model_path)"
   ]
  },
  {
   "cell_type": "code",
   "execution_count": 97,
   "metadata": {},
   "outputs": [],
   "source": [
    "bm25 = BM25Okapi(tok_text)"
   ]
  },
  {
   "cell_type": "code",
   "execution_count": 98,
   "metadata": {},
   "outputs": [
    {
     "name": "stderr",
     "output_type": "stream",
     "text": [
      "100%|██████████| 27753/27753 [00:02<00:00, 12797.39it/s]\n"
     ]
    }
   ],
   "source": [
    "weighted_doc_vects = []\n",
    "\n",
    "for i, doc in tqdm(enumerate(tok_text), total=len(tok_text)):\n",
    "  doc_vector = []\n",
    "  for word in doc:\n",
    "    vector = ft_model.wv[word]\n",
    "    #note for newer versions of fasttext you may need to replace ft_model[word] with ft_model.wv[word]\n",
    "    weight = ((bm25.idf[word] * ((bm25.k1 + 1.0)*bm25.doc_freqs[i][word])) /\n",
    "    (bm25.k1 * (1.0 - bm25.b + bm25.b *(bm25.doc_len[i]/bm25.avgdl))+bm25.doc_freqs[i][word]))\n",
    "    weighted_vector = vector * weight\n",
    "    doc_vector.append(weighted_vector) # Создается вектор для каждого долкумента.\n",
    "  doc_vector_mean = np.mean(doc_vector,axis=0)\n",
    "  weighted_doc_vects.append(doc_vector_mean)"
   ]
  },
  {
   "cell_type": "code",
   "execution_count": 99,
   "metadata": {},
   "outputs": [],
   "source": [
    "with open(vector_db, \"wb\") as file:\n",
    "    pickle.dump(weighted_doc_vects, file)"
   ]
  },
  {
   "cell_type": "code",
   "execution_count": 100,
   "metadata": {},
   "outputs": [
    {
     "name": "stderr",
     "output_type": "stream",
     "text": [
      "\n",
      "0%   10   20   30   40   50   60   70   80   90   100%\n",
      "|----|----|----|----|----|----|----|----|----|----|\n",
      "***************************************************\n",
      "\n",
      "0%   10   20   30   40   50   60   70   80   90   100%\n",
      "|----|----|----|----|----|----|----|----|----|----|\n",
      "****************************************************"
     ]
    }
   ],
   "source": [
    "with open(vector_db, \"rb\" ) as f:\n",
    "  weighted_doc_vects = pickle.load(f)\n",
    "# create a random matrix to index\n",
    "data = np.vstack(weighted_doc_vects)\n",
    "\n",
    "# initialize a new index, using a HNSW index on Cosine Similarity - can take a couple of mins\n",
    "index = nmslib.init(method='hnsw', space='cosinesimil')\n",
    "index.addDataPointBatch(data)\n",
    "index.createIndex({'post': 2}, print_progress=True)"
   ]
  },
  {
   "cell_type": "code",
   "execution_count": 101,
   "metadata": {},
   "outputs": [],
   "source": [
    "def find_recipes(text: str, count: int = 5, max_distance: int = 0.2):\n",
    "  text_tokens = get_tokens(text)\n",
    "  query = [ft_model.wv[vec] for vec in text_tokens]\n",
    "  query = np.mean(query, axis=0)\n",
    "\n",
    "  ids, distances = index.knnQuery(query, k=count)\n",
    "  for i, distance in zip(ids, distances):\n",
    "    if distance <= max_distance:\n",
    "      print(f\"distance: {distance:.2f},\\t {df['name'].values[i]}\")\n",
    "    # На основе полученных заголовков рецептов. выполняем поиск самого ррецепта."
   ]
  },
  {
   "cell_type": "code",
   "execution_count": 102,
   "metadata": {},
   "outputs": [
    {
     "name": "stdout",
     "output_type": "stream",
     "text": [
      "distance: 0.09,\t Пирог яблочный\n",
      "distance: 0.10,\t Простой яблочный пирог\n",
      "distance: 0.10,\t Яблочный пирог в мультиварке\n",
      "distance: 0.10,\t Традиционный американский яблочный пирог\n",
      "distance: 0.10,\t Классический рецепт перевернутого пирога татен\n",
      "distance: 0.10,\t Яблочный пирог\n",
      "distance: 0.10,\t Эльзасский яблочный пирог\n",
      "distance: 0.11,\t Скандинавский яблочный пирог\n",
      "distance: 0.11,\t Яблочный пирог со штрейзелем\n",
      "distance: 0.11,\t Турноверы с яблоками\n"
     ]
    }
   ],
   "source": [
    "query = 'Расскажи, как приготовить яблочный пирог?'\n",
    "\n",
    "find_recipes(query, 10)"
   ]
  },
  {
   "cell_type": "code",
   "execution_count": 103,
   "metadata": {},
   "outputs": [
    {
     "name": "stdout",
     "output_type": "stream",
     "text": [
      "distance: 0.13,\t Картофельные пирожки с грибами\n",
      "distance: 0.14,\t Драники с грибами\n"
     ]
    }
   ],
   "source": [
    "query = 'Пирожки с грибами'\n",
    "\n",
    "find_recipes(query, 50, max_distance = 0.15)"
   ]
  },
  {
   "cell_type": "markdown",
   "metadata": {},
   "source": [
    "Следующие ответы странные. Необходимо отрабатывать случаи когда когда запрос не касается рецептов. "
   ]
  },
  {
   "cell_type": "code",
   "execution_count": 104,
   "metadata": {},
   "outputs": [
    {
     "name": "stdout",
     "output_type": "stream",
     "text": [
      "distance: 0.07,\t Банья-кауда с овощами\n",
      "distance: 0.07,\t Бургер «Балибей»\n",
      "distance: 0.07,\t Суп глубокого юга Гамбо с бамией\n",
      "distance: 0.08,\t Салат из авокадо, яиц, бекона и печеных…\n",
      "distance: 0.08,\t Салат из эммера с овощами\n",
      "distance: 0.08,\t Куббургер\n",
      "distance: 0.08,\t Кенигсбергские клопсы\n",
      "distance: 0.08,\t Чикенбургер с голландским соусом\n",
      "distance: 0.08,\t Балык экмек\n",
      "distance: 0.08,\t Мясной каламбур из курицы и говядины\n"
     ]
    }
   ],
   "source": [
    "query = 'Здравствуй, Кибер-бабушка!'\n",
    "\n",
    "find_recipes(query, 10)"
   ]
  },
  {
   "cell_type": "code",
   "execution_count": 105,
   "metadata": {},
   "outputs": [
    {
     "name": "stdout",
     "output_type": "stream",
     "text": [
      "distance: 0.10,\t Морские гребешки в соусе из грибов и спаржи\n",
      "distance: 0.11,\t Зеленый суп из молодого шпината и спаржи с…\n",
      "distance: 0.11,\t Карпаччо из осьминога с поке из авокадо и…\n",
      "distance: 0.11,\t Ризотто из риса венере с авокадо и карпаччо…\n",
      "distance: 0.11,\t Густой томатный суп с лососем, тигровыми…\n",
      "distance: 0.12,\t Тобан из морепродуктов\n",
      "distance: 0.12,\t Карпаччо из лосося с азиатским соусом и…\n",
      "distance: 0.12,\t Палтус в аква пацца из ресторана Christian\n",
      "distance: 0.12,\t Киноа с лососем, спаржей и вешенками\n",
      "distance: 0.12,\t Теплый салат из морепродуктов с зелеными…\n"
     ]
    }
   ],
   "source": [
    "query = 'Спасибо'\n",
    "\n",
    "find_recipes(query, 10, max_distance=0.15)"
   ]
  }
 ],
 "metadata": {
  "kernelspec": {
   "display_name": "auto_gptq_env",
   "language": "python",
   "name": "python3"
  },
  "language_info": {
   "codemirror_mode": {
    "name": "ipython",
    "version": 3
   },
   "file_extension": ".py",
   "mimetype": "text/x-python",
   "name": "python",
   "nbconvert_exporter": "python",
   "pygments_lexer": "ipython3",
   "version": "3.10.12"
  }
 },
 "nbformat": 4,
 "nbformat_minor": 2
}
